{
 "cells": [
  {
   "cell_type": "markdown",
   "id": "bcce2c1d",
   "metadata": {},
   "source": [
    "<p align=\"center\">\n",
    "  <img src=\"https://oci02.img.iteso.mx/Identidades-De-Instancia/ITESO/Logos%20ITESO/Logo-ITESO-Principal.jpg\" alt=\"ITESO Logo\" width=\"400\">\n",
    "</p>\n",
    "\n",
    "<h1 align=\"center\">Simulación Matemática</h1>\n",
    "<h3 align=\"center\">Departamento de Matemáticas y Física</h3>\n",
    "\n",
    "- **Nombre del estudiante:** Juan Pablo Peregrina Enriquez\n",
    "\n",
    "- **Número de Matrícula:** 757625\n",
    "\n",
    "- **Nombre del profesor:** Alejandro Noel Hernández Gutiérrez\n",
    "\n",
    "- **Fecha de entrega:** 28 de mayo de 2025\n",
    "\n",
    "- **Nombre del proyecto / práctica:** ACTIVIDAD_1.2.0\n",
    "\n",
    "- **Tema:** Tipos de variables\n"
   ]
  },
  {
   "cell_type": "markdown",
   "id": "4834bb38",
   "metadata": {},
   "source": [
    "# Tipos de Variables\n",
    "En este cuaderno aprenderás sobre los principales tipos de variables en Python, sus características, y cómo utilizarlas. Cada sección contiene ejemplos prácticos y una actividad al final para reforzar lo aprendido. ¡Comencemos!"
   ]
  },
  {
   "cell_type": "markdown",
   "id": "a90766f9",
   "metadata": {},
   "source": [
    "# Variables Cualitativas y Cuantitativas"
   ]
  },
  {
   "cell_type": "markdown",
   "id": "cc3a7486",
   "metadata": {},
   "source": [
    "## 1. Variables Cualitativas\n",
    "Las variables cualitativas describen cualidades o categorías. No se expresan en números, sino en palabras o etiquetas.\n",
    "Por ejemplo, el color de un objeto, el estado civil o el género."
   ]
  },
  {
   "cell_type": "code",
   "execution_count": 23,
   "id": "8244ae95",
   "metadata": {},
   "outputs": [
    {
     "name": "stdout",
     "output_type": "stream",
     "text": [
      "Mi color favorito es: azul\n"
     ]
    }
   ],
   "source": [
    "# Ejemplo\n",
    "colores_favoritos = {\n",
    "    \"veronica\": \"negro\",\n",
    "    \"mateo\": \"azul\",\n",
    "    \"camila\": \"rojo\",\n",
    "    \"noel\": \"verde\",\n",
    "    \"valentina\": \"rosa\",\n",
    "    \"david\": \"gris\",\n",
    "    \"sofia\": \"morado\",\n",
    "    \"martin\": \"naranja\",\n",
    "    \"emma\": \"amarillo\",\n",
    "    \"nicolas\": \"blanco\"}\n",
    "print(f'Mi color favorito es: {colores_favoritos[\"mateo\"]}')"
   ]
  },
  {
   "cell_type": "code",
   "execution_count": 30,
   "id": "b25dc147",
   "metadata": {},
   "outputs": [
    {
     "name": "stdout",
     "output_type": "stream",
     "text": [
      "blanco\n"
     ]
    }
   ],
   "source": [
    "lista_colores = [\"negro\", \"azul\", \"rojo\", \"verde\", \"rosa\", \"gris\", \"morado\", \"naranja\", \"amarillo\", \"blanco\" ]\n",
    "print (lista_colores[-1])"
   ]
  },
  {
   "cell_type": "code",
   "execution_count": 35,
   "id": "ecd97326",
   "metadata": {},
   "outputs": [
    {
     "name": "stdout",
     "output_type": "stream",
     "text": [
      "El estado civil es: casado\n"
     ]
    }
   ],
   "source": [
    "# Ejemplo\n",
    "estado_civil = {1: \"soltero\", 2: \"casado\", 3: \"divorciado\", 4: \"viudo\", 5: \"en pareja\"}\n",
    "print(f'El estado civil es: {estado_civil[2]}')"
   ]
  },
  {
   "cell_type": "markdown",
   "id": "9da2fa17",
   "metadata": {},
   "source": [
    "### Conceptos clave\n",
    "- `Variable cualitativa`: también llamada categórica, representa cualidades o atributos no numéricos (por ejemplo: color, tipo, preferencia, categoría).\n",
    "\n",
    "- `Clase`: Plantilla o estructura general de un objeto en la que se abstraen sus cualidades y características, así como sus funciones. \n",
    "\n",
    "- `Instancia`: es un objeto creado a partir de una clase; cada instancia puede tener diferentes valores de atributos.\n",
    "\n",
    "- `Método`: Función definida dentro de una clase que actúa sobre sus datos"
   ]
  },
  {
   "cell_type": "code",
   "execution_count": 26,
   "id": "cf67b130",
   "metadata": {},
   "outputs": [],
   "source": [
    "# Definimos una clase Cliente para representar a cada individuo en la simulación\n",
    "class Persona:\n",
    "    def __init__(self, nombre, preferencia_color):\n",
    "        self.nombre = nombre\n",
    "        self.preferencia_color = preferencia_color  # Variable cualitativa\n",
    "\n",
    "    def describir(self):\n",
    "        print(f\"{self.nombre} prefiere el color {self.preferencia_color}.\")"
   ]
  },
  {
   "cell_type": "code",
   "execution_count": 27,
   "id": "ad49dc4b",
   "metadata": {},
   "outputs": [],
   "source": [
    "# Creamos instancias de la clase con diferentes valores cualitativos\n",
    "Ana = Persona(nombre=\"Ana\", preferencia_color=\"rojo\")\n",
    "Luis = Persona(nombre=\"Luis\", preferencia_color=\"azul\")\n",
    "Sofia = Persona(nombre=\"Sofía\", preferencia_color=\"verde\")"
   ]
  },
  {
   "cell_type": "code",
   "execution_count": 28,
   "id": "eafba2b1",
   "metadata": {},
   "outputs": [
    {
     "name": "stdout",
     "output_type": "stream",
     "text": [
      "Luis prefiere el color azul.\n"
     ]
    }
   ],
   "source": [
    "# Usamos los métodos para ver el comportamiento\n",
    "Luis.describir()"
   ]
  },
  {
   "cell_type": "code",
   "execution_count": 29,
   "id": "b7a25a43",
   "metadata": {},
   "outputs": [
    {
     "name": "stdout",
     "output_type": "stream",
     "text": [
      "Luis Alberto prefiere el color azul.\n"
     ]
    }
   ],
   "source": [
    "Luis.nombre = \"Luis Alberto\"\n",
    "Luis.describir ()\n"
   ]
  },
  {
   "cell_type": "markdown",
   "id": "f5b0aa64",
   "metadata": {},
   "source": [
    "### Live Code example:\n",
    "- Cualidades de un animal\n",
    "- Acciones de un animal\n",
    "- Definir un animal"
   ]
  },
  {
   "cell_type": "code",
   "execution_count": 33,
   "id": "29fad09e",
   "metadata": {},
   "outputs": [],
   "source": [
    "\"\"\"\"\"\n",
    "Cualidades de un animal\n",
    "Peso \n",
    "Altura \n",
    "Fuerza de mordida \n",
    "Color \n",
    "Habitat \n",
    "Velocidad\n",
    "\n",
    "Comportamientos/acciones de un animal \n",
    "Comer \n",
    "Caminar \n",
    "Dormir\n",
    "Comunicarse\n",
    "\"\"\"\n",
    "class Animal:\n",
    "    def __init__(self, nombre_comun, Peso, Altura, Fuerza_de_mordida, Color, Habitat, Velocidad, sonido):\n",
    "        self. nombre_comun = nombre_comun\n",
    "        self.Peso = Peso\n",
    "        self.Altura = Altura\n",
    "        self.Fuerza_de_mordida = Fuerza_de_mordida\n",
    "        self.Color = Color\n",
    "        self.Habitat = Habitat\n",
    "        self.Velocidad = Velocidad\n",
    "        self.sonido = sonido\n",
    "\n",
    "    def Comunicarse(self):\n",
    "        print(f\"{self.nombre_comun} hace {self.sonido}. Pesa {self.Peso} kg\")"
   ]
  },
  {
   "cell_type": "code",
   "execution_count": 34,
   "id": "d484e6bc",
   "metadata": {},
   "outputs": [
    {
     "name": "stdout",
     "output_type": "stream",
     "text": [
      "Vaca hace Muuuu. Pesa 500 kg\n"
     ]
    }
   ],
   "source": [
    "vaca = Animal (\"Vaca\", 500, 1.5, 200, \"blanco y negro\", \"Granja\", 30, \"Muuuu\")\n",
    "vaca.Comunicarse () #La Vaca hace muuu"
   ]
  },
  {
   "cell_type": "markdown",
   "id": "7178d4c7",
   "metadata": {},
   "source": [
    "### Actividad: Variables Cualitativas\n",
    "Declara tres variables cualitativas: `comida_favorita`, `pais_natal`, y `hobby`. Asigna valores a cada una y luego imprime una frase que las combine."
   ]
  },
  {
   "cell_type": "code",
   "execution_count": 39,
   "id": "04cd0f4b",
   "metadata": {},
   "outputs": [],
   "source": [
    "\"\"\"\"\n",
    "Alumnos nuevos\n",
    "Comida favorita\n",
    "Pais natal\n",
    "Hobby\n",
    "\"\"\"\n",
    "class Alumno:\n",
    "    def __init__(self, nombre, comida_favorita, pais_natal, hobby):\n",
    "        self.nombre = nombre\n",
    "        self.comida_favorita = comida_favorita\n",
    "        self.pais_natal = pais_natal\n",
    "        self.hobby = hobby\n",
    "    def descripcion(self):\n",
    "        print(f\"{self.nombre}, su comida favorita es {self.comida_favorita}, es de {self.pais_natal} y su hobby favorito es {self.hobby}.\")"
   ]
  },
  {
   "cell_type": "code",
   "execution_count": 40,
   "id": "63847b73",
   "metadata": {},
   "outputs": [
    {
     "name": "stdout",
     "output_type": "stream",
     "text": [
      "Jonathan, su comida favorita es huevos, es de Perú y su hobby favorito es ir al gym.\n"
     ]
    }
   ],
   "source": [
    "Jona = Alumno (\"Jonathan\", \"huevos\", \"Perú\", \"ir al gym\")\n",
    "Jona.descripcion ()"
   ]
  },
  {
   "cell_type": "markdown",
   "id": "17db67c9",
   "metadata": {},
   "source": [
    "## 2. Variables Cuantitativas\n",
    "Las variables cuantitativas representan cantidades y se expresan en números. Pueden ser discretas (valores enteros) o continuas (valores decimales)."
   ]
  },
  {
   "cell_type": "code",
   "execution_count": 19,
   "id": "f52fc357",
   "metadata": {},
   "outputs": [
    {
     "name": "stdout",
     "output_type": "stream",
     "text": [
      "Tengo 25 años\n"
     ]
    }
   ],
   "source": [
    "# Ejemplo\n",
    "edad = 25\n",
    "print(f'Tengo {edad} años')"
   ]
  },
  {
   "cell_type": "code",
   "execution_count": 36,
   "id": "02abdc48",
   "metadata": {},
   "outputs": [
    {
     "name": "stdout",
     "output_type": "stream",
     "text": [
      "Mi altura es: 1.754 metros\n"
     ]
    }
   ],
   "source": [
    "# Ejemplo\n",
    "altura = 1.754\n",
    "print(f'Mi altura es: {altura} metros')"
   ]
  },
  {
   "cell_type": "code",
   "execution_count": 21,
   "id": "ee73bb7a",
   "metadata": {},
   "outputs": [
    {
     "name": "stdout",
     "output_type": "stream",
     "text": [
      "Mi peso es: 70.5 kilogramos\n"
     ]
    }
   ],
   "source": [
    "# Ejemplo\n",
    "peso = 70.5\n",
    "print(f'Mi peso es: {peso} kilogramos')"
   ]
  },
  {
   "cell_type": "markdown",
   "id": "0bc043d2",
   "metadata": {},
   "source": [
    "### Actividad: Indice de masa corporal\n",
    "- Declara una clase persona con dos atributos cuantitativos: `peso` y `estatura`. \n",
    "- Dentro de la clase, crea una función `obtener_imc` para calcular el indice de masa corporal de la persona, utiliza `round(numero, ndigits)` para dejarlo con 2 digitos. \n",
    "\n"
   ]
  },
  {
   "cell_type": "code",
   "execution_count": 3,
   "id": "7d8fde54",
   "metadata": {},
   "outputs": [],
   "source": [
    "\"\"\"\n",
    "Gymbro\n",
    "Peso\n",
    "Estatura\n",
    "\"\"\"\n",
    "class Gymbro:\n",
    "    def __init__(self, peso, estatura):\n",
    "        self.peso = peso\n",
    "        self.estatura = estatura\n",
    "    def obtener_IMC(self):\n",
    "        IMC = self.peso / (self.estatura**2)\n",
    "        return round(IMC, 2)   "
   ]
  },
  {
   "cell_type": "code",
   "execution_count": 4,
   "id": "20231199",
   "metadata": {},
   "outputs": [
    {
     "name": "stdout",
     "output_type": "stream",
     "text": [
      "El IMC es:  26.27\n"
     ]
    }
   ],
   "source": [
    "Gymbro1 = Gymbro (69.8, 1.63)\n",
    "print (\"El IMC es: \", Gymbro1.obtener_IMC ())"
   ]
  },
  {
   "cell_type": "markdown",
   "id": "19540268",
   "metadata": {},
   "source": [
    "- Ahora crea 3 instancias de la clase Persona y define su peso y altura. \n",
    "- Despues usa el método `obtener_imc` e imprime su indice de masa corporal."
   ]
  },
  {
   "cell_type": "code",
   "execution_count": 12,
   "id": "20dc870d",
   "metadata": {},
   "outputs": [
    {
     "name": "stdout",
     "output_type": "stream",
     "text": [
      "El IMC es de Antonio:  20.34\n",
      "El IMC es de Angel:  25.26\n",
      "El IMC es de Kike:  22.2\n"
     ]
    }
   ],
   "source": [
    "Antonio = Gymbro (63, 1.76)\n",
    "print (\"El IMC es de Antonio: \", Antonio.obtener_IMC())\n",
    "Angel = Gymbro (73, 1.70)\n",
    "print (\"El IMC es de Angel: \", Angel.obtener_IMC())\n",
    "Kike = Gymbro (68, 1.75)\n",
    "print (\"El IMC es de Kike: \", Kike.obtener_IMC())"
   ]
  },
  {
   "cell_type": "markdown",
   "id": "ecb36a6b",
   "metadata": {},
   "source": [
    "# Operadores Aritméticos\n",
    "Los operadores aritméticos se utilizan para realizar operaciones matemáticas básicas como suma, resta, multiplicación y división.\n",
    "\n",
    "### Operadores comunes:\n",
    "- `+` Suma\n",
    "- `-` Resta\n",
    "- `*` Multiplicación\n",
    "- `/` División\n",
    "- `%` Módulo\n",
    "- `**` Exponenciación\n",
    "- `//` División entera"
   ]
  },
  {
   "cell_type": "code",
   "execution_count": 37,
   "id": "0d312f7b",
   "metadata": {},
   "outputs": [
    {
     "name": "stdout",
     "output_type": "stream",
     "text": [
      "Suma: 10 + 3 =  13\n",
      "Resta: 10 - 3 = 7\n",
      "Multiplicación: 10 * 3 = 30\n",
      "División: 10 / 3 = 3.3333333333333335\n",
      "Exponenciación: 10 a la 3 = 1000\n"
     ]
    }
   ],
   "source": [
    "# Ejemplo: Operadores aritméticos\n",
    "a = 10\n",
    "b = 3\n",
    "print(f'Suma: {a} + {b} =  {a + b}')\n",
    "print(f'Resta: {a} - {b} = {a - b}')\n",
    "print(f'Multiplicación: {a} * {b} = {a * b}')\n",
    "print(f'División: {a} / {b} = {a / b}')\n",
    "print(f'Exponenciación: {a} a la {b} = {a ** b}')"
   ]
  },
  {
   "cell_type": "markdown",
   "id": "621f23ed",
   "metadata": {},
   "source": [
    "### División entera en Python\n",
    "\n",
    "En Python, la **división entera** se realiza con el operador `//`.\n",
    "\n",
    "Este operador devuelve el **cociente entero** de la división, **descartando los decimales**.\n",
    "\n",
    "```python\n",
    "resultado = dividendo // divisor\n",
    "\n"
   ]
  },
  {
   "cell_type": "markdown",
   "id": "f0445d69",
   "metadata": {},
   "source": [
    "### Live code example.\n",
    "- Obtener división entera entre un numero a y un numero b"
   ]
  },
  {
   "cell_type": "code",
   "execution_count": 41,
   "id": "fb16ea21",
   "metadata": {},
   "outputs": [
    {
     "name": "stdout",
     "output_type": "stream",
     "text": [
      "División entera: 20//6=3\n"
     ]
    }
   ],
   "source": [
    "a = 20\n",
    "b = 6\n",
    "print (f\"División entera: {a}//{b}={a//b}\")"
   ]
  },
  {
   "cell_type": "markdown",
   "id": "16c3462f",
   "metadata": {},
   "source": [
    "### ¿Qué es el residuo o módulo?\n",
    "\n",
    "El **residuo** es el valor restante después de dividir un número entre otro.  \n",
    "Se representa con el operador `%` en muchos lenguajes de programación.\n",
    "\n",
    "### Live code example.\n",
    "- Obtener residuo entre 16 y 3.\n"
   ]
  },
  {
   "cell_type": "code",
   "execution_count": 5,
   "id": "882c8583",
   "metadata": {},
   "outputs": [
    {
     "name": "stdout",
     "output_type": "stream",
     "text": [
      "El residuo es: 1\n"
     ]
    }
   ],
   "source": [
    "a = 16\n",
    "b = 3\n",
    "print (f\"El residuo es: {a % b}\")"
   ]
  },
  {
   "cell_type": "markdown",
   "id": "53ad01b3",
   "metadata": {},
   "source": [
    "### Actividad: Operadores Aritméticos\n",
    "Dado `x = 15` y `y = 4`, realiza las siguientes operaciones:\n",
    "1. Calcula el residuo de `x` dividido entre `y`. Guarda el resultado en una variable llamada `residuo` e imprime."
   ]
  },
  {
   "cell_type": "code",
   "execution_count": 7,
   "id": "71990363",
   "metadata": {},
   "outputs": [
    {
     "name": "stdout",
     "output_type": "stream",
     "text": [
      "3\n"
     ]
    }
   ],
   "source": [
    "x = 15\n",
    "y = 4\n",
    "residuo = x%y\n",
    "print (residuo)"
   ]
  },
  {
   "cell_type": "markdown",
   "id": "ba5f131f",
   "metadata": {},
   "source": [
    "2. Calcula `x` elevado a la potencia de `y`. Guarda el resultado en una variable llamada `potencia` e imprime.\n"
   ]
  },
  {
   "cell_type": "code",
   "execution_count": 8,
   "id": "d640d8a9",
   "metadata": {},
   "outputs": [
    {
     "name": "stdout",
     "output_type": "stream",
     "text": [
      "125\n"
     ]
    }
   ],
   "source": [
    "x = 5\n",
    "y = 3\n",
    "potencia = x**y\n",
    "print (potencia)"
   ]
  },
  {
   "cell_type": "markdown",
   "id": "fa6a51d3",
   "metadata": {},
   "source": [
    "3. Calcula la división entera de `x` entre `y`. Guarda el resultado en una variable llamada `division_entera` e imprime."
   ]
  },
  {
   "cell_type": "code",
   "execution_count": 9,
   "id": "bc85ee17",
   "metadata": {},
   "outputs": [
    {
     "name": "stdout",
     "output_type": "stream",
     "text": [
      "16\n"
     ]
    }
   ],
   "source": [
    "x = 67\n",
    "y = 4\n",
    "division_entera = x // y\n",
    "print (division_entera)"
   ]
  },
  {
   "cell_type": "markdown",
   "id": "3d227299",
   "metadata": {},
   "source": [
    "## 2. Operadores de Comparación\n",
    "Los operadores de comparación se utilizan para comparar valores y devuelven un valor booleano (`True` o `False`).\n",
    "\n",
    "### Operadores comunes:\n",
    "- `==` Igual a\n",
    "- `!=` Diferente de\n",
    "- `>` Mayor que\n",
    "- `<` Menor que\n",
    "- `>=` Mayor o igual que\n",
    "- `<=` Menor o igual que"
   ]
  },
  {
   "cell_type": "code",
   "execution_count": 38,
   "id": "93585934",
   "metadata": {},
   "outputs": [
    {
     "name": "stdout",
     "output_type": "stream",
     "text": [
      "¿a es igual a b? False\n",
      "¿a es diferente de b? True\n",
      "¿a es mayor que b? False\n",
      "¿a es menor o igual que b? True\n"
     ]
    }
   ],
   "source": [
    "# Ejemplo: Operadores de comparación\n",
    "a = 10\n",
    "b = 20\n",
    "print(f'¿a es igual a b? {a == b}')\n",
    "print(f'¿a es diferente de b? {a != b}')\n",
    "print(f'¿a es mayor que b? {a > b}')\n",
    "print(f'¿a es menor o igual que b? {a <= b}')"
   ]
  },
  {
   "cell_type": "markdown",
   "id": "c55cb6a7",
   "metadata": {},
   "source": [
    "### Live code example\n",
    "- Ejemplificar algunos operadores con if else\n"
   ]
  },
  {
   "cell_type": "markdown",
   "id": "b38cf791",
   "metadata": {},
   "source": []
  },
  {
   "cell_type": "markdown",
   "id": "b02036a5",
   "metadata": {},
   "source": [
    "### Actividad: Operadores de Comparación\n",
    "Dado `a = 50` y `b = 25`, responde con código e imprime la respuesta:\n",
    "1. ¿`a` es mayor que `b`?\n"
   ]
  },
  {
   "cell_type": "code",
   "execution_count": 10,
   "id": "0a9a4568",
   "metadata": {},
   "outputs": [
    {
     "name": "stdout",
     "output_type": "stream",
     "text": [
      "Verdadero\n"
     ]
    }
   ],
   "source": [
    "a = 50\n",
    "b = 25\n",
    "if a > b:\n",
    "    print (\"Verdadero\")\n",
    "else:\n",
    "    print (\"Falso\")"
   ]
  },
  {
   "cell_type": "markdown",
   "id": "7440990e",
   "metadata": {},
   "source": [
    "Dado `a = 50` y `b = 75`, responde con código e imprime la respuesta:\n",
    "\n",
    "2. ¿`a` es igual a `b`?\n",
    "\n"
   ]
  },
  {
   "cell_type": "code",
   "execution_count": null,
   "id": "ab5ef5fd",
   "metadata": {},
   "outputs": [],
   "source": [
    "a = 50\n",
    "b = 75\n",
    "if a == b:\n",
    "    print (\"Verdadero\")\n",
    "else:\n",
    "    print (\"Falso\")"
   ]
  },
  {
   "cell_type": "markdown",
   "id": "a6fabb2a",
   "metadata": {},
   "source": [
    "Dado `a = -300` y `b = 25`, responde con código e imprime la respuesta:\n",
    "\n",
    "3. ¿`b` es menor o igual que `a`?"
   ]
  },
  {
   "cell_type": "code",
   "execution_count": 13,
   "id": "4f6a914e",
   "metadata": {},
   "outputs": [
    {
     "name": "stdout",
     "output_type": "stream",
     "text": [
      "Falso\n"
     ]
    }
   ],
   "source": [
    "a = -300\n",
    "b = 25\n",
    "if b <= a:\n",
    "    print (\"Verdadero\")\n",
    "else:\n",
    "    print (\"Falso\")"
   ]
  }
 ],
 "metadata": {
  "kernelspec": {
   "display_name": ".venv",
   "language": "python",
   "name": "python3"
  },
  "language_info": {
   "codemirror_mode": {
    "name": "ipython",
    "version": 3
   },
   "file_extension": ".py",
   "mimetype": "text/x-python",
   "name": "python",
   "nbconvert_exporter": "python",
   "pygments_lexer": "ipython3",
   "version": "3.13.3"
  }
 },
 "nbformat": 4,
 "nbformat_minor": 5
}
