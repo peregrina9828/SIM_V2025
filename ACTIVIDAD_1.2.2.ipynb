{
 "cells": [
  {
   "cell_type": "markdown",
   "id": "81de9217",
   "metadata": {},
   "source": [
    "<p align=\"center\">\n",
    "  <img src=\"https://oci02.img.iteso.mx/Identidades-De-Instancia/ITESO/Logos%20ITESO/Logo-ITESO-Principal.jpg\" alt=\"ITESO Logo\" width=\"400\">\n",
    "</p>\n",
    "\n",
    "<h1 align=\"center\">Simulación Matemática</h1>\n",
    "<h3 align=\"center\">Departamento de Matemáticas y Física</h3>\n",
    "\n",
    "- **Nombre del estudiante:** _______________________________\n",
    "\n",
    "- **Número de Matrícula:** ________________________\n",
    "\n",
    "- **Nombre del profesor:** Alejandro Noel Hernández Gutiérrez\n",
    "\n",
    "- **Fecha de entrega:** _________________________________\n",
    "\n",
    "- **Nombre del proyecto / práctica:** ACTIVIDAD_X.Y.Z\n",
    "\n",
    "- **Tema:** ______________________________________________\n"
   ]
  },
  {
   "cell_type": "markdown",
   "id": "1ae1ecc4",
   "metadata": {},
   "source": [
    "# Control de flujo y funciones en Python\n",
    "En esta tarea, exploraremos los conceptos básicos de control de flujo y funciones en Python a través de ejemplos prácticos y actividades. Asegúrate de ejecutar cada celda para comprender el comportamiento del código."
   ]
  },
  {
   "cell_type": "markdown",
   "id": "1c9673be",
   "metadata": {},
   "source": [
    "## Live Code Example: `if`, `elif` y `else`\n",
    "El uso de `if`, `elif` y `else` nos permite tomar decisiones en base a condiciones específicas.\n",
    "- Declarar variable `x` igual a diez\n",
    "- `if` con condición x mayor que 5`\n",
    "- Uso de `elif` con condición x igual que 5\n",
    "- Uso de `else` cuando ninguna condición anterior se cumple"
   ]
  },
  {
   "cell_type": "code",
   "execution_count": 1,
   "id": "add1840a",
   "metadata": {},
   "outputs": [
    {
     "name": "stdout",
     "output_type": "stream",
     "text": [
      "Carlos ya puede sacar su INE\n"
     ]
    }
   ],
   "source": [
    "edad_Carlos = 18\n",
    "if edad_Carlos < 18:\n",
    "    print (\"Carlos no tiene INE\")\n",
    "elif edad_Carlos == 18:\n",
    "    print (\"Carlos ya puede sacar su INE\")\n",
    "else:\n",
    "    print (\"Carlos probablemente ya puede sacar su INE\")"
   ]
  },
  {
   "cell_type": "markdown",
   "id": "b7066c48",
   "metadata": {},
   "source": [
    "## Live Code Example: Captura de datos con ciclo `for` y almacenamiento en lista\n",
    "\n",
    "Este ejemplo simula la recolección de 5 mediciones experimentales. Es útil para prácticas de laboratorio donde el estudiante debe registrar manualmente datos durante una serie de pruebas.\n",
    "\n",
    "- Se declara una lista vacía llamada `mediciones` que almacenará los valores capturados.\n",
    "- Se utiliza un ciclo `for` con `range(5)` para repetir el proceso de captura cinco veces.\n",
    "- En cada iteración:\n",
    "  - Se muestra al usuario el número de la medición con `print(f\"Medición {i + 1}\")`.\n",
    "  - Se solicita al usuario que ingrese un valor con `valor = input(\"Ingresa el valor de la medición: \")`.\n",
    "  - El valor ingresado se almacena en la lista `mediciones` mediante `append()`.\n",
    "- Finalmente, se imprimen todas las mediciones registradas.\n",
    "\n",
    "Este patrón se adapta a múltiples contextos:\n",
    "- En ingeniería civil: recolección manual de datos de campo como deformaciones, temperatura, humedad, etc.\n",
    "- En nanotecnología: registro manual de resultados de pruebas ópticas, espectros, o parámetros de superficie."
   ]
  },
  {
   "cell_type": "code",
   "execution_count": 2,
   "id": "253e6e19",
   "metadata": {},
   "outputs": [
    {
     "name": "stdout",
     "output_type": "stream",
     "text": [
      "Medicion 1\n",
      "Medicion 2\n",
      "Medicion 3\n",
      "Medicion 4\n",
      "Medicion 5\n",
      "['8', '5', '19.1', '6', '5']\n"
     ]
    }
   ],
   "source": [
    "mediciones = []\n",
    "for medicion in range (5):\n",
    "    print(f\"Medicion {medicion + 1}\")\n",
    "    valor = input(\"Ingresa el valor de la medición\")\n",
    "    mediciones.append(valor)\n",
    "    \n",
    "print (mediciones)"
   ]
  },
  {
   "cell_type": "markdown",
   "id": "320728a8",
   "metadata": {},
   "source": [
    "## Ejemplo 3: Ciclo while\n",
    "El ciclo `while` ejecuta un bloque de código mientras una condición sea verdadera."
   ]
  },
  {
   "cell_type": "markdown",
   "id": "b2bf33c2",
   "metadata": {},
   "source": [
    "## Live Code Example: Uso del ciclo `while` para control iterativo\n",
    "\n",
    "Este ejemplo demuestra cómo utilizar un ciclo `while` para ejecutar instrucciones repetitivas mientras se cumple una condición lógica. Es útil cuando no se conoce de antemano cuántas veces se repetirá un proceso, algo común en simulaciones de sistemas iterativos o procesos de control.\n",
    "\n",
    "- Se declara una variable llamada `contador` y se inicializa en `0`. Esta variable se usará para controlar la cantidad de iteraciones.\n",
    "- Se utiliza un ciclo `while` con la condición `contador < 3`. El cuerpo del ciclo se ejecuta mientras esta condición sea verdadera.\n",
    "- En cada iteración:\n",
    "  - Se imprime el valor actual de `contador` utilizando `print(f\"Contador: {contador}\")`.\n",
    "  - Se incrementa el valor de `contador` en uno con `contador += 1`.\n",
    "- El ciclo termina automáticamente cuando `contador` alcanza el valor de `3`, ya que la condición deja de cumplirse.\n",
    "\n"
   ]
  },
  {
   "cell_type": "code",
   "execution_count": null,
   "id": "22a6834f",
   "metadata": {},
   "outputs": [
    {
     "name": "stdout",
     "output_type": "stream",
     "text": [
      "Contador: 0\n",
      "Contador: 1\n",
      "Contador: 2\n"
     ]
    }
   ],
   "source": [
    "contador = 0\n",
    "while contador < 3:\n",
    "    print(f\"Contador: {contador}\")\n",
    "    contador += 1"
   ]
  },
  {
   "cell_type": "markdown",
   "id": "d068916a",
   "metadata": {},
   "source": [
    "## Ejemplo 4: Funciones\n",
    "Las funciones nos permiten encapsular lógica y reutilizar código.\n",
    "- Usar la función para imprimir el area de un triangulo"
   ]
  },
  {
   "cell_type": "code",
   "execution_count": 5,
   "id": "e064726e",
   "metadata": {},
   "outputs": [],
   "source": [
    "# funcion con multiples parámetros\n",
    "def area_rectangulo(base, altura):\n",
    "    \"\"\"Calcula el área de un rectángulo.\"\"\"\n",
    "    area = base * altura\n",
    "    print (f\"El area del rectangulo es: {area}\")\n",
    "    return area"
   ]
  },
  {
   "cell_type": "code",
   "execution_count": 6,
   "id": "44d35b0f",
   "metadata": {},
   "outputs": [
    {
     "name": "stdout",
     "output_type": "stream",
     "text": [
      "El area del rectangulo es: 6\n",
      "El area del rectangulo es: 12\n",
      "El area del rectangulo es: 30\n"
     ]
    },
    {
     "data": {
      "text/plain": [
       "30"
      ]
     },
     "execution_count": 6,
     "metadata": {},
     "output_type": "execute_result"
    }
   ],
   "source": [
    "# Imprimir el area de un triangulo random\n",
    "area_rectangulo (3,2)\n",
    "area_rectangulo (4,3)\n",
    "area_rectangulo (5,6)\n"
   ]
  },
  {
   "cell_type": "markdown",
   "id": "213755ea",
   "metadata": {},
   "source": [
    "### Live Code Example: argumentos default\n",
    "- Mostrar que si no se define un argumento, utiliza el default\n",
    "- Mostrar que también es posible definirlos."
   ]
  },
  {
   "cell_type": "code",
   "execution_count": 7,
   "id": "9c49df1d",
   "metadata": {},
   "outputs": [],
   "source": [
    "# función con argumentos predeterminados\n",
    "def saludo(nombre, mensaje=\"¡Hola!\"):\n",
    "    \"\"\"Muestra un saludo personalizado.\"\"\"\n",
    "    return f\"{mensaje} {nombre}\""
   ]
  },
  {
   "cell_type": "code",
   "execution_count": 8,
   "id": "b1ac6d4c",
   "metadata": {},
   "outputs": [
    {
     "name": "stdout",
     "output_type": "stream",
     "text": [
      "¡Hola! Maria\n",
      "Hey que tal! Andres\n"
     ]
    }
   ],
   "source": [
    "# Mostrar lo que se indica\n",
    "\n",
    "print (saludo(\"Maria\"))\n",
    "print( saludo(\"Andres\", mensaje=\"Hey que tal!\"))\n"
   ]
  },
  {
   "cell_type": "markdown",
   "id": "115e63d0",
   "metadata": {},
   "source": [
    "### Live Code Example: Función recursiva\n",
    "Una función recursiva es una función que en algún momento se llama a si misma\n",
    "- Configurar un archivo para debuggear\n",
    "- Ejecutar el siguiente código\n",
    "\n",
    "```python\n",
    "\n",
    "def factorial(n):\n",
    "    \"\"\"Calcula el factorial de un número.\"\"\"\n",
    "    if n == 0 or n == 1:\n",
    "        return 1\n",
    "    return n * factorial(n - 1)\n",
    "\n",
    "# Ejemplo de uso 5*4*3*2*1\n",
    "print(factorial(5))  # Salida: 120\n",
    "```"
   ]
  },
  {
   "cell_type": "markdown",
   "id": "624bb97b",
   "metadata": {},
   "source": [
    "# Actividad\n",
    "Crea una función llamada `es_par` que reciba un número entero como parámetro y regrese `True` si el número es par y `False` en caso contrario.\n",
    "\n",
    "Ejemplo de uso:\n",
    "```python\n",
    "print(es_par(4))  # Debería regresar True\n",
    "print(es_par(5))  # Debería regresar False\n",
    "```"
   ]
  },
  {
   "cell_type": "code",
   "execution_count": 10,
   "id": "a877f5e9",
   "metadata": {},
   "outputs": [],
   "source": [
    "def es_par (numero):\n",
    "    return numero % 2 == 0\n",
    "\n",
    "\n"
   ]
  },
  {
   "cell_type": "markdown",
   "id": "56c297b7",
   "metadata": {},
   "source": [
    "### Muestra un ejemplo de uso de tu función"
   ]
  },
  {
   "cell_type": "code",
   "execution_count": 12,
   "id": "d2e609c3",
   "metadata": {},
   "outputs": [
    {
     "name": "stdout",
     "output_type": "stream",
     "text": [
      "True\n",
      "False\n",
      "False\n",
      "True\n",
      "False\n",
      "True\n"
     ]
    }
   ],
   "source": [
    "print (es_par(4))\n",
    "print (es_par(5))\n",
    "print (es_par(101))\n",
    "print (es_par(3452))\n",
    "print (es_par(423))\n",
    "print (es_par(2000))"
   ]
  },
  {
   "cell_type": "markdown",
   "id": "6b66c951",
   "metadata": {},
   "source": [
    "## **Actividad: Suma de una lista de números usando recursión**\n",
    "\n",
    "Crea una función recursiva llamada `suma_lista` que reciba como parámetro una lista de números y regrese la suma de todos sus elementos.\n",
    "\n",
    "1. Si la lista está vacía, la suma debe ser 0.\n",
    "2. Si la lista no está vacía:\n",
    "   - Toma el primer elemento de la lista.\n",
    "   - Suma este elemento al resultado de llamar a la función recursivamente con el resto de la lista.\n",
    "\n",
    "### **Ejemplo de uso**\n",
    "```python\n",
    "print(suma_lista([1, 2, 3, 4, 5]))  # Debería regresar 15\n",
    "print(suma_lista([])) # Debe regresar 0"
   ]
  },
  {
   "cell_type": "code",
   "execution_count": 14,
   "id": "67af8b31",
   "metadata": {},
   "outputs": [],
   "source": [
    "def suma_lista (lista):\n",
    "    if not lista:\n",
    "        return 0\n",
    "    else:\n",
    "        return lista [0] + suma_lista (lista [1:])"
   ]
  },
  {
   "cell_type": "markdown",
   "id": "1524e281",
   "metadata": {},
   "source": [
    "### Muestra un ejemplo de uso de tu función"
   ]
  },
  {
   "cell_type": "code",
   "execution_count": 15,
   "id": "cfab3da0",
   "metadata": {},
   "outputs": [
    {
     "name": "stdout",
     "output_type": "stream",
     "text": [
      "15\n",
      "0\n",
      "10\n",
      "4\n",
      "7.5\n"
     ]
    }
   ],
   "source": [
    "print(suma_lista([1, 2, 3, 4, 5]))  \n",
    "print(suma_lista([]))               \n",
    "print(suma_lista([10]))             \n",
    "print(suma_lista([-2, 4, -6, 8]))   \n",
    "print(suma_lista([1.5, 2.5, 3.5]))  "
   ]
  },
  {
   "cell_type": "markdown",
   "id": "2c6838a1",
   "metadata": {},
   "source": [
    "# Evaluación\n",
    "A continuación, se realizarán pruebas automáticas para verificar si las actividades fueron resueltas correctamente. Ejecuta la celda para comprobar tus respuestas."
   ]
  },
  {
   "cell_type": "code",
   "execution_count": 16,
   "id": "6310442e",
   "metadata": {},
   "outputs": [
    {
     "name": "stdout",
     "output_type": "stream",
     "text": [
      "Todas las pruebas pasaron exitosamente. ¡Buen trabajo!\n"
     ]
    }
   ],
   "source": [
    "# Pruebas\n",
    "def test():\n",
    "    # Prueba para es_par\n",
    "    assert es_par(4) == True, \"Error en es_par(4)\"\n",
    "    assert es_par(5) == False, \"Error en es_par(5)\"\n",
    "\n",
    "    # Prueba para suma_lista\n",
    "    assert suma_lista([1, 2, 3, 4]) == 10, \"Error en suma_lista([1, 2, 3, 4])\"\n",
    "    assert suma_lista([-1, 0, 1]) == 0, \"Error en suma_lista([-1, 0, 1])\"\n",
    "    assert suma_lista([]) == 0, \"Error en suma_lista([])\"\n",
    "    \n",
    "    print(\"Todas las pruebas pasaron exitosamente. ¡Buen trabajo!\")\n",
    "\n",
    "test()"
   ]
  },
  {
   "cell_type": "markdown",
   "id": "e30ead18",
   "metadata": {},
   "source": [
    "## 1. List Comprehension\n",
    "La list comprehension es una forma de crear listas en una sola línea. Su sintaxis básica es:\n",
    "\n",
    "`[expresion for elemento in iterable if condicion]`\n",
    "\n",
    "- **expresion**: Lo que quieres incluir en la nueva lista.\n",
    "- **elemento**: El elemento actual del iterable.\n",
    "- **iterable**: La colección que estás iterando.\n",
    "- **condicion**: (Opcional) Filtra los elementos que deseas incluir."
   ]
  },
  {
   "cell_type": "markdown",
   "id": "8f2edcf3",
   "metadata": {},
   "source": [
    "## Live Code Example: Lista de números elevados al cuadrado usando comprensión de listas\n",
    "\n",
    "Este ejemplo muestra cómo generar una nueva lista que contenga los cuadrados de una lista de números base utilizando la técnica de comprensión de listas. Es una forma concisa y eficiente de construir listas derivadas en Python.\n",
    "\n",
    "- Se declara una lista llamada `numeros` que contiene los enteros del 1 al 5.\n",
    "- Se utiliza una **comprensión de listas** para generar una nueva lista llamada `cuadrados`, donde cada elemento es el cuadrado del correspondiente en `numeros`. Esto se logra con la expresión `n**2 for n in numeros`.\n",
    "- Finalmente, se imprime la lista `cuadrados` usando `print()`.\n",
    "\n",
    "Este patrón puede ser útil en varios contextos:\n",
    "- En ingeniería civil: cálculo de áreas de secciones cuadradas a partir de longitudes registradas.\n",
    "- En nanotecnología: procesamiento vectorial de mediciones donde se requiere aplicar una transformación cuadrática, como energía almacenada o intensidad óptica."
   ]
  },
  {
   "cell_type": "code",
   "execution_count": null,
   "id": "936ae988",
   "metadata": {},
   "outputs": [],
   "source": []
  },
  {
   "cell_type": "markdown",
   "id": "49042a0c",
   "metadata": {},
   "source": [
    "## Live Code Example: Filtrar números pares con comprensión de listas\n",
    "\n",
    "Este ejemplo demuestra cómo aplicar una condición lógica dentro de una comprensión de listas para filtrar elementos. Es una técnica útil para extraer subconjuntos de datos que cumplan ciertos criterios.\n",
    "\n",
    "- Se parte de una lista existente llamada `numeros`, la cual contiene valores enteros.\n",
    "- Se crea una nueva lista llamada `pares` utilizando comprensión de listas, que incluye solo los elementos de `numeros` que cumplan la condición `n % 2 == 0`.\n",
    "  - Esta condición evalúa si un número `n` es divisible entre 2 (es decir, si es par).\n",
    "- Finalmente, se imprime la lista resultante `pares` con `print()`.\n",
    "\n",
    "Aplicaciones posibles:\n",
    "- En ingeniería civil: filtrar datos de sensores que registran valores cada dos segundos (índices pares).\n",
    "- En nanotecnología: seleccionar medidas que cumplen criterios de simetría o periodicidad que dependen de índices pares.\n"
   ]
  },
  {
   "cell_type": "code",
   "execution_count": null,
   "id": "f7263449",
   "metadata": {},
   "outputs": [],
   "source": []
  },
  {
   "cell_type": "markdown",
   "id": "5d01b53a",
   "metadata": {},
   "source": [
    "# Live Code Example: Operaciones combinadas en comprensión de listas\n",
    "\n",
    "Este ejemplo muestra cómo combinar operaciones aritméticas y condiciones lógicas dentro de una misma comprensión de listas. Esta técnica permite construir listas transformadas y filtradas en una sola línea de código, mejorando la legibilidad y eficiencia.\n",
    "\n",
    "- Se parte de una lista llamada `numeros` que contiene enteros.\n",
    "- Se genera una nueva lista llamada `resultado` utilizando comprensión de listas.\n",
    "  - Dentro de la comprensión:\n",
    "    - La expresión `n**2` eleva al cuadrado cada número.\n",
    "    - La condición `if n % 2 == 0` filtra solo aquellos números que sean pares.\n",
    "- Como resultado, `resultado` contendrá únicamente los cuadrados de los números pares en la lista original.\n",
    "- Se imprime el contenido de `resultado` usando `print()`.\n",
    "\n",
    "Aplicaciones posibles:\n",
    "- En ingeniería civil: procesamiento de datos donde solo ciertos valores (por ejemplo, sensores colocados en posiciones pares) son transformados para obtener áreas o energías.\n",
    "- En nanotecnología: filtrado de mediciones en estructuras periódicas donde se requiere transformar solo ciertos nodos o capas."
   ]
  },
  {
   "cell_type": "code",
   "execution_count": null,
   "id": "5b45c160",
   "metadata": {},
   "outputs": [],
   "source": []
  },
  {
   "cell_type": "markdown",
   "id": "082120ce",
   "metadata": {},
   "source": [
    "### Actividad: List Comprehension\n",
    "Dada la lista `mi_lista = [10, 15, 20, 25, 30, 2, 8, 16, 27, 36]`, utiliza list comprehension para:\n",
    "1. Crear una nueva lista `lista_multiples` con los números que son múltiplos de 5.\n"
   ]
  },
  {
   "cell_type": "code",
   "execution_count": null,
   "id": "75b8a7c8",
   "metadata": {},
   "outputs": [],
   "source": []
  },
  {
   "cell_type": "markdown",
   "id": "429b2064",
   "metadata": {},
   "source": [
    "2. Crear una lista `lista_dobles` con el doble de cada número.\n"
   ]
  },
  {
   "cell_type": "code",
   "execution_count": null,
   "id": "776edb76",
   "metadata": {},
   "outputs": [],
   "source": []
  },
  {
   "cell_type": "markdown",
   "id": "0a70c4a5",
   "metadata": {},
   "source": [
    "3. Filtrar los números mayores a 20."
   ]
  },
  {
   "cell_type": "code",
   "execution_count": null,
   "id": "5e467940",
   "metadata": {},
   "outputs": [],
   "source": []
  },
  {
   "cell_type": "markdown",
   "id": "8b010414",
   "metadata": {},
   "source": [
    "## 2. Dictionary Comprehension\n",
    "El dictionary comprehension permite crear diccionarios en una sola línea. Su sintaxis básica es:\n",
    "\n",
    "`{clave: valor for elemento in iterable if condicion}`\n",
    "\n",
    "- **clave**: La clave para cada entrada del diccionario.\n",
    "- **valor**: El valor asociado a la clave.\n",
    "- **elemento**: El elemento actual del iterable.\n",
    "- **condicion**: (Opcional) Filtra las entradas del diccionario."
   ]
  },
  {
   "cell_type": "markdown",
   "id": "8e9e67a0",
   "metadata": {},
   "source": [
    "## Live Code Example: Crear un diccionario con cuadrados usando comprensión de diccionarios\n",
    "\n",
    "Este ejemplo muestra cómo construir un diccionario a partir de una lista de números, donde cada clave es el número original y su valor es el cuadrado de ese número. Se utiliza una **comprensión de diccionario**, una técnica compacta y eficiente en Python.\n",
    "\n",
    "- Se declara una lista llamada `numeros` que contiene los enteros del 1 al 5.\n",
    "- Se crea un diccionario llamado `diccionario_cuadrados` utilizando la sintaxis `{n: n**2 for n in numeros}`.\n",
    "  - Cada elemento `n` de la lista `numeros` se convierte en una clave del diccionario.\n",
    "  - El valor asociado a cada clave es `n**2`, es decir, el cuadrado del número.\n",
    "- Finalmente, se imprime el contenido del diccionario con `print()`."
   ]
  },
  {
   "cell_type": "code",
   "execution_count": null,
   "id": "82c4068e",
   "metadata": {},
   "outputs": [],
   "source": []
  },
  {
   "cell_type": "markdown",
   "id": "81f869db",
   "metadata": {},
   "source": [
    "## Live Code Example: Filtrar valores al construir un diccionario\n",
    "\n",
    "Este ejemplo muestra cómo aplicar una condición al construir un diccionario con comprensión de diccionario. Se filtran los elementos que cumplen cierta condición (ser pares) antes de incluirlos en el diccionario.\n",
    "\n",
    "- Se parte de una lista de enteros llamada `numeros`, por ejemplo: `[1, 2, 3, 4, 5]`.\n",
    "- Se construye un diccionario llamado `diccionario_pares` utilizando `{n: n**2 for n in numeros if n % 2 == 0}`.\n",
    "  - La clave `n` es cada número de la lista original que cumple la condición `n % 2 == 0`, es decir, que es par.\n",
    "  - El valor correspondiente es el cuadrado del número, calculado como `n**2`.\n",
    "- Finalmente, se imprime el diccionario con `print()`.\n",
    "\n",
    "Aplicaciones posibles:\n",
    "- En ingeniería civil: creación de una tabla de equivalencias para diámetros pares de tuberías y su área transversal.\n",
    "- En nanotecnología: filtrado de índices estructurales para formar una relación entre identificadores pares y sus propiedades cuadradas (como intensidad, energía u otra magnitud física)."
   ]
  },
  {
   "cell_type": "code",
   "execution_count": null,
   "id": "03574d72",
   "metadata": {},
   "outputs": [],
   "source": []
  },
  {
   "cell_type": "markdown",
   "id": "4fb1a880",
   "metadata": {},
   "source": [
    "### Actividad 2: Dictionary Comprehension\n",
    "Dado el rango de números del 1 al 10:\n",
    "1. Crea un diccionario `diccionario_dobles` que mapee cada número con su doble."
   ]
  },
  {
   "cell_type": "code",
   "execution_count": null,
   "id": "dedae67f",
   "metadata": {},
   "outputs": [],
   "source": []
  },
  {
   "cell_type": "markdown",
   "id": "c06ac086",
   "metadata": {},
   "source": [
    "2. Crea un diccionario que contenga solo los números impares como claves y su cuadrado como valores. La salida sería {1: 1, 3: 9, 5: 25, 7: 49, 9: 81}, pero debes usar dictionary comprehesion"
   ]
  },
  {
   "cell_type": "code",
   "execution_count": null,
   "id": "7a0c08d5",
   "metadata": {},
   "outputs": [],
   "source": []
  },
  {
   "cell_type": "markdown",
   "id": "694b1ee4",
   "metadata": {},
   "source": [
    "## Actividad de Integración\n",
    "Combina list comprehension y dictionary comprehension para resolver los siguientes problemas:\n",
    "1. Dada una lista de palabras, crea un diccionario que mapee cada palabra con su longitud: `{'hola': 4, 'mundo': 5, ...`"
   ]
  },
  {
   "cell_type": "code",
   "execution_count": null,
   "id": "3a0eea8a",
   "metadata": {},
   "outputs": [],
   "source": []
  },
  {
   "cell_type": "markdown",
   "id": "d5b583c7",
   "metadata": {},
   "source": [
    "2. Dada una lista de números, crea un diccionario que mapee cada número con \"par\" o \"impar\" dependiendo de su valor: `{1: 'impar', 2: 'par', 3..`"
   ]
  },
  {
   "cell_type": "code",
   "execution_count": null,
   "id": "baa93177",
   "metadata": {},
   "outputs": [],
   "source": []
  }
 ],
 "metadata": {
  "kernelspec": {
   "display_name": "Python 3",
   "language": "python",
   "name": "python3"
  },
  "language_info": {
   "codemirror_mode": {
    "name": "ipython",
    "version": 3
   },
   "file_extension": ".py",
   "mimetype": "text/x-python",
   "name": "python",
   "nbconvert_exporter": "python",
   "pygments_lexer": "ipython3",
   "version": "3.13.3"
  }
 },
 "nbformat": 4,
 "nbformat_minor": 5
}
