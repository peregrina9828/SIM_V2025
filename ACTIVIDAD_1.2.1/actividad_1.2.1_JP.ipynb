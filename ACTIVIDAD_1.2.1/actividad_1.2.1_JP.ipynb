{
 "cells": [
  {
   "cell_type": "markdown",
   "id": "81de9217",
   "metadata": {},
   "source": [
    "<p align=\"center\">\n",
    "  <img src=\"https://oci02.img.iteso.mx/Identidades-De-Instancia/ITESO/Logos%20ITESO/Logo-ITESO-Principal.jpg\" alt=\"ITESO Logo\" width=\"400\">\n",
    "</p>\n",
    "\n",
    "<h1 align=\"center\">Simulación Matemática</h1>\n",
    "<h3 align=\"center\">Departamento de Matemáticas y Física</h3>\n",
    "\n",
    "- **Nombre del estudiante:** Juan Pablo Peregrina Enriquez\n",
    "\n",
    "- **Número de Matrícula:** 757625\n",
    "\n",
    "- **Nombre del profesor:** Alejandro Noel Hernández Gutiérrez\n",
    "\n",
    "- **Fecha de entrega:** 29 de Mayo de 2025\n",
    "\n",
    "- **Nombre del proyecto / práctica:** ACTIVIDAD_X.Y.Z\n",
    "\n",
    "- **Tema:** Estructuras de datos en Python\n"
   ]
  },
  {
   "cell_type": "markdown",
   "id": "7f693dbe",
   "metadata": {},
   "source": [
    "# Estructuras de Datos en Python"
   ]
  },
  {
   "cell_type": "markdown",
   "id": "156e5ed8",
   "metadata": {},
   "source": [
    "## 1. Listas\n",
    "Las listas son colecciones ordenadas y mutables. Se utilizan para almacenar múltiples elementos en una sola variable. Puedes agregar, eliminar y modificar elementos.\n",
    "\n",
    "- La palabra \"mutable\" proviene del latín \"mutabilis\", que es un adjetivo que significa \"que puede ser cambiado\" o \"que es susceptible de cambio\". \n",
    "- Listas (list), diccionarios (dict), conjuntos (set) son objetos mutables en Python. Esto significa que puedes modificar sus elementos sin crear un nuevo objeto.\n",
    "\n",
    "La lista es ordenada porque tiene\n",
    "- Orden de inserción\n",
    "- Se accede a través de indices"
   ]
  },
  {
   "cell_type": "code",
   "execution_count": 2,
   "id": "62e6c467",
   "metadata": {},
   "outputs": [
    {
     "name": "stdout",
     "output_type": "stream",
     "text": [
      "['manzana', 'banana', 'cereza']\n"
     ]
    }
   ],
   "source": [
    "# Ejemplo 1: Crear una lista\n",
    "frutas = ['manzana', 'banana', 'cereza']\n",
    "print(frutas)"
   ]
  },
  {
   "cell_type": "markdown",
   "id": "c7e752fd",
   "metadata": {},
   "source": [
    "### Ordenar una lista"
   ]
  },
  {
   "cell_type": "code",
   "execution_count": 3,
   "id": "9529d3dc",
   "metadata": {},
   "outputs": [
    {
     "name": "stdout",
     "output_type": "stream",
     "text": [
      "['banana', 'cereza', 'manzana']\n"
     ]
    }
   ],
   "source": [
    "frutas.sort()\n",
    "print(frutas)"
   ]
  },
  {
   "cell_type": "markdown",
   "id": "c368c053",
   "metadata": {},
   "source": [
    "### Acceder a elementos de una lista. \n",
    "- Al acceder a los elementos se pueden visualizar, modificar o utilizar. "
   ]
  },
  {
   "cell_type": "code",
   "execution_count": 4,
   "id": "6582d809",
   "metadata": {},
   "outputs": [
    {
     "name": "stdout",
     "output_type": "stream",
     "text": [
      "banana\n",
      "manzana\n"
     ]
    }
   ],
   "source": [
    "# Ejemplo 2: Acceder a elementos\n",
    "print(frutas[0])  # Primer elemento\n",
    "print(frutas[-1])  # Último elemento"
   ]
  },
  {
   "cell_type": "markdown",
   "id": "d341cb31",
   "metadata": {},
   "source": [
    "### Agregar un elemento a una lista"
   ]
  },
  {
   "cell_type": "code",
   "execution_count": 5,
   "id": "1719ff4d",
   "metadata": {},
   "outputs": [
    {
     "name": "stdout",
     "output_type": "stream",
     "text": [
      "['banana', 'cereza', 'manzana', 'naranja']\n"
     ]
    }
   ],
   "source": [
    "# Ejemplo 3: Agregar y eliminar elementos\n",
    "frutas.append('naranja')\n",
    "print(frutas)"
   ]
  },
  {
   "cell_type": "markdown",
   "id": "13f6e3b5",
   "metadata": {},
   "source": [
    "### Remover un elemento de una lista"
   ]
  },
  {
   "cell_type": "code",
   "execution_count": 6,
   "id": "be8f8045",
   "metadata": {},
   "outputs": [
    {
     "name": "stdout",
     "output_type": "stream",
     "text": [
      "['cereza', 'manzana', 'naranja']\n"
     ]
    }
   ],
   "source": [
    "frutas.remove('banana')\n",
    "print(frutas)"
   ]
  },
  {
   "cell_type": "markdown",
   "id": "5a725142",
   "metadata": {},
   "source": [
    "### Live Code example:\n",
    "- Detectar si un elemento esta en la lista con palabra reservada `in` e `if`. \n",
    "- Si está, obtener el indice con `index('')`\n",
    "- reemplazarlo por `'pera'` en la posición del indice. \n",
    "- imprimir cada elemento con un `for/in`"
   ]
  },
  {
   "cell_type": "code",
   "execution_count": 7,
   "id": "3f0ce8eb",
   "metadata": {},
   "outputs": [
    {
     "name": "stdout",
     "output_type": "stream",
     "text": [
      "Manzana si está en frutas\n",
      "1\n",
      "Manzana\n",
      "cereza\n",
      "pera\n",
      "naranja\n"
     ]
    }
   ],
   "source": [
    "if \"manzana\" in frutas:\n",
    "    print (\"Manzana si está en frutas\")\n",
    "    indice_manzana = frutas.index(\"manzana\")\n",
    "    print (indice_manzana)\n",
    "    print (frutas[indice_manzana].capitalize())\n",
    "    frutas [indice_manzana] = \"pera\"\n",
    "for fruta in frutas:\n",
    "    print (fruta)\n"
   ]
  },
  {
   "cell_type": "markdown",
   "id": "7266afb6",
   "metadata": {},
   "source": [
    "### Actividad: Listas\n",
    "Crea una lista llamada `mis_numeros` con al menos 5 números enteros. Luego, realiza lo siguiente:\n",
    "- Agrega el número 10 a la lista utilizando `append`.\n",
    "- Elimina el primer elemento de la lista utilizando `remove `.\n",
    "- Imprime todos los elementos usando un bucle."
   ]
  },
  {
   "cell_type": "code",
   "execution_count": 52,
   "id": "56e73f14",
   "metadata": {},
   "outputs": [
    {
     "name": "stdout",
     "output_type": "stream",
     "text": [
      "3\n",
      "2\n",
      "1\n",
      "5\n",
      "10\n"
     ]
    }
   ],
   "source": [
    "mis_numeros = [8, 3, 2, 1, 5]\n",
    "mis_numeros.append(10)\n",
    "mis_numeros.remove(mis_numeros[0])\n",
    "for numero in mis_numeros:\n",
    "    print (numero)"
   ]
  },
  {
   "cell_type": "markdown",
   "id": "133c3fda",
   "metadata": {},
   "source": [
    "## 2. Tuplas\n",
    "Las tuplas son colecciones ordenadas pero inmutables. Una vez creada, no puedes modificar sus elementos."
   ]
  },
  {
   "cell_type": "code",
   "execution_count": 8,
   "id": "e9b84331",
   "metadata": {},
   "outputs": [
    {
     "name": "stdout",
     "output_type": "stream",
     "text": [
      "('rojo', 'verde', 'azul')\n"
     ]
    }
   ],
   "source": [
    "# Ejemplo 1: Crear una tupla\n",
    "colores = ('rojo', 'verde', 'azul')\n",
    "print(colores)"
   ]
  },
  {
   "cell_type": "code",
   "execution_count": 9,
   "id": "0f343620",
   "metadata": {},
   "outputs": [
    {
     "name": "stdout",
     "output_type": "stream",
     "text": [
      "verde\n",
      "azul\n"
     ]
    }
   ],
   "source": [
    "# Ejemplo 2: Acceder a elementos\n",
    "print(colores[1])\n",
    "print(colores[-1])"
   ]
  },
  {
   "cell_type": "code",
   "execution_count": 10,
   "id": "a6cee347",
   "metadata": {},
   "outputs": [
    {
     "name": "stdout",
     "output_type": "stream",
     "text": [
      "1\n",
      "1\n"
     ]
    }
   ],
   "source": [
    "# Ejemplo 4: Contar y buscar elementos\n",
    "print(colores.count('rojo'))\n",
    "print(colores.index('verde'))"
   ]
  },
  {
   "cell_type": "markdown",
   "id": "8484ac31",
   "metadata": {},
   "source": [
    "### Desempaquetado de tuplas\n",
    "- Desempaquetar es el proceso de asignar sus valores a variables individuales de manera directa. Esto se hace utilizando un proceso llamado desempaquetado, que permite extraer los elementos de una tupla y asignarlos a variables específicas de manera sencilla y concisa."
   ]
  },
  {
   "cell_type": "code",
   "execution_count": 11,
   "id": "42281fee",
   "metadata": {},
   "outputs": [
    {
     "name": "stdout",
     "output_type": "stream",
     "text": [
      "rojo\n",
      "verde\n",
      "azul\n"
     ]
    }
   ],
   "source": [
    "# Ejemplo 3: Desempaquetar una tupla\n",
    "rojo, verde, azul = colores\n",
    "print(rojo)\n",
    "print(verde)\n",
    "print(azul)"
   ]
  },
  {
   "cell_type": "markdown",
   "id": "ad2d7942",
   "metadata": {},
   "source": [
    "### Live code example\n",
    "- Función `calcular_promedio(a, b, c)`\n",
    "- Calcula el promedio de los 3 numeros\n",
    "- Retorna una tupla a, b, c, promedio \n",
    "- Guardar con desempaquetado valor1, valor2, valor3, promedio = funcion\n",
    "- Imprime `f\"Promedio de los valores[{valor1}, {valor2}, {valor3}]: {promedio}\"`"
   ]
  },
  {
   "cell_type": "code",
   "execution_count": 14,
   "id": "596f960e",
   "metadata": {},
   "outputs": [
    {
     "name": "stdout",
     "output_type": "stream",
     "text": [
      "Promedio de los valores[10, 20, 30]: 20.0\n"
     ]
    }
   ],
   "source": [
    "def calcular_promedio (a, b, c):\n",
    "    promedio = sum([a,b,c])/3\n",
    "    return a, b, c, promedio\n",
    "val1, val2, val3, promedio = calcular_promedio (10, 20, 30)\n",
    "print (f\"Promedio de los valores[{val1}, {val2}, {val3}]: {promedio}\")"
   ]
  },
  {
   "cell_type": "markdown",
   "id": "673be4e8",
   "metadata": {},
   "source": [
    "### Actividad: Tuplas\n",
    "Crea una tupla llamada `mi_tupla` con los nombres de 3 ciudades. Luego, imprime cada ciudad en una línea diferente."
   ]
  },
  {
   "cell_type": "code",
   "execution_count": 49,
   "id": "d480b4ac",
   "metadata": {},
   "outputs": [
    {
     "name": "stdout",
     "output_type": "stream",
     "text": [
      "Guadalajara\n",
      "Monterrey\n",
      "Montreal\n"
     ]
    }
   ],
   "source": [
    "mi_tupla = (\"Guadalajara\", \"Monterrey\", \"Montreal\")\n",
    "for ciudad in mi_tupla:\n",
    "    print (ciudad)"
   ]
  },
  {
   "cell_type": "markdown",
   "id": "2f52f1fd",
   "metadata": {},
   "source": [
    "## 3. Conjuntos\n",
    "Los conjuntos son colecciones no ordenadas y no permiten elementos duplicados. Son útiles para realizar operaciones como unión e intersección."
   ]
  },
  {
   "cell_type": "code",
   "execution_count": 15,
   "id": "a73a4feb",
   "metadata": {},
   "outputs": [
    {
     "name": "stdout",
     "output_type": "stream",
     "text": [
      "{1, 2, 3, 4}\n"
     ]
    }
   ],
   "source": [
    "# Ejemplo 1: Crear un conjunto\n",
    "mis_numeros = {1, 2, 3, 4} \n",
    "print(mis_numeros)"
   ]
  },
  {
   "cell_type": "code",
   "execution_count": 16,
   "id": "6d40000a",
   "metadata": {},
   "outputs": [
    {
     "name": "stdout",
     "output_type": "stream",
     "text": [
      "{1, 2, 3, 4, 5}\n"
     ]
    }
   ],
   "source": [
    "# Ejemplo 2: Agregar y eliminar elementos\n",
    "mis_numeros.add(5)\n",
    "print(mis_numeros)"
   ]
  },
  {
   "cell_type": "code",
   "execution_count": 17,
   "id": "a64d7227",
   "metadata": {},
   "outputs": [
    {
     "name": "stdout",
     "output_type": "stream",
     "text": [
      "{2, 3, 4, 5}\n"
     ]
    }
   ],
   "source": [
    "# Ejemplo: Eliminar un elemento específico\n",
    "mis_numeros.remove(1)\n",
    "print(mis_numeros)"
   ]
  },
  {
   "cell_type": "markdown",
   "id": "aa384a32",
   "metadata": {},
   "source": [
    "### Union (teoria de conjuntos)"
   ]
  },
  {
   "cell_type": "code",
   "execution_count": 18,
   "id": "f3d555b3",
   "metadata": {},
   "outputs": [
    {
     "name": "stdout",
     "output_type": "stream",
     "text": [
      "{3, 4, 5, 6, 9, 10, 11, 12}\n"
     ]
    }
   ],
   "source": [
    "# Ejemplo 3: Operaciones de conjuntos\n",
    "numeros_a = {9, 10, 11, 12}\n",
    "otros_numeros = {3, 4, 5, 6}\n",
    "unidos = numeros_a.union(otros_numeros)\n",
    "print(unidos)"
   ]
  },
  {
   "cell_type": "markdown",
   "id": "16debf10",
   "metadata": {},
   "source": [
    "### Live code example \n",
    "- Intersección (Teoría de conjuntos)\n",
    "- `numeros_a = {9, 10, 11, 12}`\n",
    "- `numeros_b = {3, 4, 5, 6, 7, 8, 9, 10}`\n",
    "- Imprimir resultado"
   ]
  },
  {
   "cell_type": "code",
   "execution_count": 24,
   "id": "04c10ed1",
   "metadata": {},
   "outputs": [
    {
     "name": "stdout",
     "output_type": "stream",
     "text": [
      "{9, 10}\n"
     ]
    }
   ],
   "source": [
    "\n",
    "numeros_a = {9, 10, 11, 12}\n",
    "numeros_b = {3, 4, 5, 6, 7, 8, 9, 10}\n",
    "inter  = numeros_a.intersection(numeros_b)\n",
    "print(inter)"
   ]
  },
  {
   "cell_type": "markdown",
   "id": "5ecb82e4",
   "metadata": {},
   "source": [
    "### Live code example ' Diferencia en conjuntos'\n",
    "- Datos del conjunto A que no están en B\n",
    "```python\n",
    "numeros_a = {9, 10, 11, 12}\n",
    "numeros_b = {3, 4, 5, 6, 7, 8, 9, 10}\n",
    "diferencia = numeros_a.difference(numeros_b)\n",
    "print(diferencia)"
   ]
  },
  {
   "cell_type": "code",
   "execution_count": 25,
   "id": "25d90b9e",
   "metadata": {},
   "outputs": [
    {
     "name": "stdout",
     "output_type": "stream",
     "text": [
      "{11, 12}\n"
     ]
    }
   ],
   "source": [
    "\n",
    "numeros_a = {9, 10, 11, 12}\n",
    "numeros_b = {3, 4, 5, 6, 7, 8, 9, 10}\n",
    "diferencia  = numeros_a.difference(numeros_b)\n",
    "print(diferencia)"
   ]
  },
  {
   "cell_type": "markdown",
   "id": "3144dd3b",
   "metadata": {},
   "source": [
    "### Live code example ' Diferencia simetrica en conjuntos'\n",
    "- Datos del conjunto A que no están en B y datos de B que no están en A\n",
    "```python\n",
    "numeros_a = {9, 10, 11, 12}\n",
    "numeros_b = {3, 4, 5, 6, 7, 8, 9, 10}\n",
    "intesectados = numeros_a.symmetric_difference(numeros_b)\n",
    "print(intesectados)"
   ]
  },
  {
   "cell_type": "code",
   "execution_count": 26,
   "id": "64326b7d",
   "metadata": {},
   "outputs": [
    {
     "name": "stdout",
     "output_type": "stream",
     "text": [
      "{3, 4, 5, 6, 7, 8, 11, 12}\n"
     ]
    }
   ],
   "source": [
    "numeros_a = {9, 10, 11, 12}\n",
    "numeros_b = {3, 4, 5, 6, 7, 8, 9, 10}\n",
    "diferencia  = numeros_a.symmetric_difference(numeros_b)\n",
    "print(diferencia)"
   ]
  },
  {
   "cell_type": "markdown",
   "id": "7c0ecb0b",
   "metadata": {},
   "source": [
    "### Actividad: Conjuntos\n",
    "Dados los siguientes conjuntos \n",
    "\n",
    "  ```python\n",
    "  nanotech_engineer = {'Python', 'C++', 'MATLAB', 'Nanofabrication', 'Semiconductors', 'Quantum Mechanics'}\n",
    "  civil_engineer = {'Python', 'AutoCAD', 'MATLAB', 'Structural Analysis', 'Civil Engineering', 'Reinforced Concrete'}\n",
    "```\n",
    "\n",
    "Determina con operaciones de conjuntos\n",
    "- Las skills que deben tener los ingenieros de nanotecnología que no necesitan los ingenieros civiles\n",
    "- Las skills que deben tener ambos perfiles\n",
    "- Las skills que deben tener los ingenieros civiles que no necesitan los ingenieros de nanotecnología."
   ]
  },
  {
   "cell_type": "code",
   "execution_count": 30,
   "id": "ec49b135",
   "metadata": {},
   "outputs": [
    {
     "name": "stdout",
     "output_type": "stream",
     "text": [
      "{'C++', 'Nanofabrication', 'Semiconductors', 'Quantum Mechanics'}\n",
      "{'Python', 'MATLAB'}\n",
      "{'Civil Engineering', 'AutoCAD', 'Reinforced Concrete', 'Structural Analysis'}\n"
     ]
    }
   ],
   "source": [
    "nanotech_engineer = {'Python', 'C++', 'MATLAB', 'Nanofabrication', 'Semiconductors', 'Quantum Mechanics'}\n",
    "civil_engineer = {'Python', 'AutoCAD', 'MATLAB', 'Structural Analysis', 'Civil Engineering', 'Reinforced Concrete'}\n",
    "nano_noCivil = nanotech_engineer.difference(civil_engineer)\n",
    "print (nano_noCivil)\n",
    "inters = nanotech_engineer.intersection(civil_engineer)\n",
    "print (inters)\n",
    "civil_noNano = civil_engineer.difference(nanotech_engineer)\n",
    "print (civil_noNano)\n"
   ]
  },
  {
   "cell_type": "markdown",
   "id": "e82b4c50",
   "metadata": {},
   "source": [
    "## 4. Diccionarios\n",
    "Los diccionarios almacenan pares clave-valor. Son útiles para representar relaciones y buscar valores rápidamente."
   ]
  },
  {
   "cell_type": "markdown",
   "id": "2018c451",
   "metadata": {},
   "source": [
    "### Live code example\n",
    "- Corregir edad de juan a 22\n",
    "- Iterar sobre los elementos de un dicciorio `.items()`\n",
    "- Imprimir su clave y sy valor `print(f'{clave}: {valor}')`\n",
    "\n",
    "```python\n",
    "alumno = {'nombre': 'Juan', 'edad': 22, 'carrera': 'Ingeniería'}\n",
    "```\n",
    "-  Acceder a valores con get\n",
    "```python\n",
    "print(alumno.get('edad', 'Acceso invalido'))"
   ]
  },
  {
   "cell_type": "code",
   "execution_count": 50,
   "id": "98522371",
   "metadata": {},
   "outputs": [
    {
     "name": "stdout",
     "output_type": "stream",
     "text": [
      "Juan\n",
      "nombre:Juan\n",
      "edad:20\n",
      "carrera:Ingeniería\n"
     ]
    }
   ],
   "source": [
    "alumno = {'nombre': 'Juan', 'edad': 22, 'carrera': 'Ingeniería'}\n",
    "print(alumno.get(\"nombre\", \"Acceso invalido\"))\n",
    "alumno [\"edad\"] = 20\n",
    "for clave, valor in alumno.items():\n",
    "    print(f\"{clave}:{valor}\")"
   ]
  },
  {
   "cell_type": "markdown",
   "id": "a18453ad",
   "metadata": {},
   "source": [
    "### Actividad: Diccionarios\n",
    "Crea un diccionario llamado `mi_diccionario` con información sobre una mascota (nombre, edad, tipo). Agrega un nuevo par clave-valor para la especie, y luego imprime todos los pares clave-valor."
   ]
  },
  {
   "cell_type": "code",
   "execution_count": 54,
   "id": "fbad2ecf",
   "metadata": {},
   "outputs": [
    {
     "name": "stdout",
     "output_type": "stream",
     "text": [
      "Cacerolo\n",
      "Nombre:Cacerolo\n",
      "Edad:12\n",
      "Tipo:Perro\n"
     ]
    }
   ],
   "source": [
    "mi_diccionario = {\"Nombre\": \"Cacerolo\", \"Edad\": 12, \"Tipo\": \"Gato\"}\n",
    "print(mi_diccionario.get(\"Nombre\"))\n",
    "mi_diccionario [\"Tipo\"] = \"Perro\"\n",
    "for dato, valor in mi_diccionario.items():\n",
    "    print(f\"{dato}:{valor}\")\n"
   ]
  },
  {
   "cell_type": "markdown",
   "id": "15885c63",
   "metadata": {},
   "source": [
    "# Slicing en Python\n",
    "El slicing es una técnica utilizada para extraer porciones de secuencias en Python, como listas, cadenas y tuplas. Este cuaderno te enseñará los fundamentos del slicing con ejemplos prácticos y actividades.\n"
   ]
  },
  {
   "cell_type": "markdown",
   "id": "eea46edc",
   "metadata": {},
   "source": [
    "## 1. Introducción al Slicing\n",
    "El slicing utiliza la notación `[inicio:fin:paso]` para seleccionar partes de una secuencia:\n",
    "- **inicio**: Índice donde comienza el slicing (incluido).\n",
    "- **fin**: Índice donde termina el slicing (excluido).\n",
    "- **paso**: Número de elementos a saltar.\n",
    "\n",
    "Todos estos parámetros son opcionales."
   ]
  },
  {
   "cell_type": "code",
   "execution_count": 33,
   "id": "a7e34c20",
   "metadata": {},
   "outputs": [
    {
     "name": "stdout",
     "output_type": "stream",
     "text": [
      "[2, 3, 4, 5, 6]\n"
     ]
    }
   ],
   "source": [
    "# Ejemplo básico\n",
    "mi_lista = [0, 1, 2, 3, 4, 5, 6, 7, 8, 9]\n",
    "print(mi_lista[2:7])  # Desde el índice 2 hasta el 6"
   ]
  },
  {
   "cell_type": "code",
   "execution_count": 34,
   "id": "d39c8712",
   "metadata": {},
   "outputs": [
    {
     "name": "stdout",
     "output_type": "stream",
     "text": [
      "[0, 1, 2, 3, 4]\n"
     ]
    }
   ],
   "source": [
    "mi_lista = [0, 1, 2, 3, 4, 5, 6, 7, 8, 9]\n",
    "print(mi_lista[:5])   # Desde el inicio hasta el índice 4"
   ]
  },
  {
   "cell_type": "code",
   "execution_count": 36,
   "id": "d10ee407",
   "metadata": {},
   "outputs": [
    {
     "name": "stdout",
     "output_type": "stream",
     "text": [
      "[5, 6, 7, 8, 9]\n"
     ]
    }
   ],
   "source": [
    "mi_lista = [0, 1, 2, 3, 4, 5, 6, 7, 8, 9]\n",
    "print(mi_lista[5:10])   # Desde el índice 5 hasta el final"
   ]
  },
  {
   "cell_type": "markdown",
   "id": "4af52b81",
   "metadata": {},
   "source": [
    "## 2. Slicing con paso"
   ]
  },
  {
   "cell_type": "code",
   "execution_count": 31,
   "id": "823b81cf",
   "metadata": {},
   "outputs": [
    {
     "name": "stdout",
     "output_type": "stream",
     "text": [
      "[10, 30, 50, 70, 90]\n"
     ]
    }
   ],
   "source": [
    "# Ejemplo 1: Usar paso\n",
    "numeros = [10, 20, 30, 40, 50, 60, 70, 80, 90]\n",
    "print(numeros[::2])  # Elementos con paso de 2"
   ]
  },
  {
   "cell_type": "markdown",
   "id": "985626c0",
   "metadata": {},
   "source": [
    "### Live code example\n",
    "- `print(numeros[::-1]) # Lista invertida`\n",
    "- `numeros[1:4] = [25, 35, 45]` # reemplazar valores"
   ]
  },
  {
   "cell_type": "code",
   "execution_count": 37,
   "id": "f15e3c79",
   "metadata": {},
   "outputs": [
    {
     "name": "stdout",
     "output_type": "stream",
     "text": [
      "[90, 80, 70, 60, 50, 40, 30, 20, 10]\n"
     ]
    }
   ],
   "source": [
    "numeros = [10, 20, 30, 40, 50, 60, 70, 80, 90]\n",
    "print(numeros[::-1])"
   ]
  },
  {
   "cell_type": "code",
   "execution_count": 38,
   "id": "4e30a5e5",
   "metadata": {},
   "outputs": [
    {
     "data": {
      "text/plain": [
       "[10, 25, 35, 45, 50, 60, 70, 80, 90]"
      ]
     },
     "execution_count": 38,
     "metadata": {},
     "output_type": "execute_result"
    }
   ],
   "source": [
    "numeros[1:4] = [25, 35, 45]\n",
    "numeros"
   ]
  },
  {
   "cell_type": "markdown",
   "id": "b4482fdd",
   "metadata": {},
   "source": [
    "### Actividad: Slicing en Listas\n",
    "Crea una lista llamada `mis_frutas` con al menos 6 nombres de frutas. Realiza los siguientes pasos:\n",
    "1. Los primeros 3 nombres serán 'fruta1', 'fruta2', 'fruta3'. Imprime."
   ]
  },
  {
   "cell_type": "code",
   "execution_count": null,
   "id": "4ca468fd",
   "metadata": {},
   "outputs": [
    {
     "name": "stdout",
     "output_type": "stream",
     "text": [
      "['fruta1', 'fruta2', 'fruta3']\n"
     ]
    }
   ],
   "source": [
    "mis_frutas = [\"fruta1\", \"fruta2\", \"fruta3\", \"naranja\", \"papaya\", \"kiwi\"]\n",
    "print (mis_frutas)"
   ]
  },
  {
   "cell_type": "markdown",
   "id": "f61262ce",
   "metadata": {},
   "source": [
    "2. Obtén una sublista con las primeras 3 frutas. Imprime."
   ]
  },
  {
   "cell_type": "code",
   "execution_count": null,
   "id": "096eb0aa",
   "metadata": {},
   "outputs": [],
   "source": [
    "mis_frutas = [\"fruta1\", \"fruta2\", \"fruta3\", \"naranja\", \"papaya\", \"kiwi\"]\n",
    "print (mis_frutas[:3])"
   ]
  },
  {
   "cell_type": "markdown",
   "id": "1b64a97a",
   "metadata": {},
   "source": [
    "4. Invierte el orden de la lista.. Imprime."
   ]
  },
  {
   "cell_type": "code",
   "execution_count": 62,
   "id": "c82765ef",
   "metadata": {},
   "outputs": [
    {
     "name": "stdout",
     "output_type": "stream",
     "text": [
      "['kiwi', 'papaya', 'naranja', 'fruta3', 'fruta2', 'fruta1']\n"
     ]
    }
   ],
   "source": [
    "mis_frutas = [\"fruta1\", \"fruta2\", \"fruta3\", \"naranja\", \"papaya\", \"kiwi\"]\n",
    "print (mis_frutas[::-1])"
   ]
  },
  {
   "cell_type": "markdown",
   "id": "8096bec6",
   "metadata": {},
   "source": [
    "## 3. Slicing en Cadenas\n",
    "Las cadenas de texto son inmutables, pero el slicing permite analizar y extraer subcadenas."
   ]
  },
  {
   "cell_type": "code",
   "execution_count": 39,
   "id": "cd5dd87a",
   "metadata": {},
   "outputs": [
    {
     "name": "stdout",
     "output_type": "stream",
     "text": [
      "es\n",
      "Python\n",
      "increíble\n"
     ]
    }
   ],
   "source": [
    "# Ejemplo 1: Extraer subcadenas\n",
    "texto = 'Python es increíble'\n",
    "print(texto[7:9])    # 'es'\n",
    "print(texto[:6])     # 'Python'\n",
    "print(texto[-9:])    # 'increíble'"
   ]
  },
  {
   "cell_type": "markdown",
   "id": "6d65c298",
   "metadata": {},
   "source": [
    "### Ejemplo caracteres pares"
   ]
  },
  {
   "cell_type": "code",
   "execution_count": 40,
   "id": "dbc757cd",
   "metadata": {},
   "outputs": [
    {
     "name": "stdout",
     "output_type": "stream",
     "text": [
      "Aialv atn\n",
      "anit al aval atinA\n"
     ]
    }
   ],
   "source": [
    "texto = 'Anita lava la tina'\n",
    "print(texto[::2])    # Caracteres en posiciones pares. Recuerda que el 0 es par\n",
    "print(texto[::-1])   # Cadena invertida"
   ]
  },
  {
   "cell_type": "markdown",
   "id": "dae1a363",
   "metadata": {},
   "source": [
    "### Actividad: Slicing en Cadenas\n",
    "Declara una cadena llamada `mi_cadena` con la frase: 'El slicing es poderoso'. Realiza los siguientes pasos:\n",
    "1. Extrae la palabra 'slicing'. Imprime.\n",
    "2. Obtén la cadena con los caracteres en posiciones impares. Recuerda que el 0 es par. Imprime.\n",
    "3. Invierte el texto. Imprime."
   ]
  },
  {
   "cell_type": "code",
   "execution_count": 60,
   "id": "610b7fa6",
   "metadata": {},
   "outputs": [
    {
     "name": "stdout",
     "output_type": "stream",
     "text": [
      "slicing\n",
      "lsiige oeoo\n",
      "osoredop se gnicils lE\n"
     ]
    }
   ],
   "source": [
    "mi_cadena = \"El slicing es poderoso\"\n",
    "print (mi_cadena[3:10])\n",
    "print (mi_cadena[1::2])\n",
    "print (mi_cadena[::-1])"
   ]
  },
  {
   "cell_type": "markdown",
   "id": "dff9f165",
   "metadata": {},
   "source": [
    "## 4. Slicing en Tuplas\n",
    "Aunque las tuplas son inmutables, el slicing permite extraer partes de ellas."
   ]
  },
  {
   "cell_type": "code",
   "execution_count": 44,
   "id": "4af85c64",
   "metadata": {},
   "outputs": [
    {
     "name": "stdout",
     "output_type": "stream",
     "text": [
      "(200, 300, 400)\n"
     ]
    }
   ],
   "source": [
    "# Ejemplo 1: Extraer elementos\n",
    "mi_tupla_slicing = (100, 200, 300, 400, 500)\n",
    "print(mi_tupla_slicing[1:4]) # Desde el índice 1 hasta el 3"
   ]
  },
  {
   "cell_type": "code",
   "execution_count": 45,
   "id": "c1dd02d2",
   "metadata": {},
   "outputs": [
    {
     "name": "stdout",
     "output_type": "stream",
     "text": [
      "(100, 300, 500)\n",
      "(500, 400, 300, 200, 100)\n"
     ]
    }
   ],
   "source": [
    "# Ejemplo 2: Usar paso\n",
    "print(mi_tupla_slicing[::2])  # Elementos en posiciones pares\n",
    "print(mi_tupla_slicing[::-1]) # Tupla invertida"
   ]
  },
  {
   "cell_type": "markdown",
   "id": "fe1895df",
   "metadata": {},
   "source": [
    "### Actividad 3: Slicing en Tuplas\n",
    "Declara una tupla llamada `mi_tupla` con los números del 1 al 10. Realiza los siguientes pasos:\n",
    "1. Extrae una subtupla con los números del 4 al 7. Imprime.\n",
    "2. Obtén una tupla con los números en posiciones impares. Imprime.\n",
    "3. Invierte la tupla. Imprime."
   ]
  },
  {
   "cell_type": "code",
   "execution_count": 61,
   "id": "acd7b500",
   "metadata": {},
   "outputs": [
    {
     "name": "stdout",
     "output_type": "stream",
     "text": [
      "(4, 5, 6, 7)\n",
      "(2, 4, 6, 8, 10)\n",
      "(10, 9, 8, 7, 6, 5, 4, 3, 2, 1)\n"
     ]
    }
   ],
   "source": [
    "mi_tupla = (1,2,3,4,5,6,7,8,9,10)\n",
    "print (mi_tupla[3:7])\n",
    "print (mi_tupla [1::2])\n",
    "print (mi_tupla[::-1])"
   ]
  }
 ],
 "metadata": {
  "kernelspec": {
   "display_name": ".venv",
   "language": "python",
   "name": "python3"
  },
  "language_info": {
   "codemirror_mode": {
    "name": "ipython",
    "version": 3
   },
   "file_extension": ".py",
   "mimetype": "text/x-python",
   "name": "python",
   "nbconvert_exporter": "python",
   "pygments_lexer": "ipython3",
   "version": "3.13.3"
  }
 },
 "nbformat": 4,
 "nbformat_minor": 5
}
