{
 "cells": [
  {
   "cell_type": "code",
   "execution_count": null,
   "id": "2bcdbdef",
   "metadata": {},
   "outputs": [
    {
     "name": "stdout",
     "output_type": "stream",
     "text": [
      "Máquina de Estados Finitos - Torniquete\n",
      "Estado inicial: Bloqueado\n",
      "Opciones:\n",
      "1. Echar moneda\n",
      "2. Empujar\n",
      "\n",
      "Estado actual: Bloqueado\n",
      "Opción no válida. Por favor ingrese 1 o 2.\n",
      "\n",
      "Estado actual: Bloqueado\n",
      "Moneda aceptada. Torniquete desbloqueado.\n",
      "\n",
      "Estado actual: Desbloqueado\n",
      "Empuje exitoso. Torniquete bloqueado nuevamente.\n",
      "\n",
      "Estado actual: Bloqueado\n",
      "Torniquete bloqueado. No se puede pasar sin echar moneda.\n",
      "\n",
      "Estado actual: Bloqueado\n",
      "Moneda aceptada. Torniquete desbloqueado.\n",
      "\n",
      "Estado actual: Desbloqueado\n",
      "Empuje exitoso. Torniquete bloqueado nuevamente.\n",
      "\n",
      "Estado actual: Bloqueado\n",
      "Torniquete bloqueado. No se puede pasar sin echar moneda.\n",
      "\n",
      "Estado actual: Bloqueado\n",
      "Moneda aceptada. Torniquete desbloqueado.\n",
      "\n",
      "Estado actual: Desbloqueado\n",
      "El torniquete ya está desbloqueado. No se aceptan más monedas.\n",
      "\n",
      "Estado actual: Desbloqueado\n",
      "El torniquete ya está desbloqueado. No se aceptan más monedas.\n",
      "\n",
      "Estado actual: Desbloqueado\n"
     ]
    }
   ],
   "source": [
    "print(\"Máquina de Estados Finitos - Torniquete\")\n",
    "\n",
    "estado_actual = \"Bloqueado\"\n",
    "\n",
    "print(\"Estado inicial:\", estado_actual)\n",
    "print(\"Opciones:\")\n",
    "print(\"1. Echar moneda\")\n",
    "print(\"2. Empujar\")\n",
    "\n",
    "while True:\n",
    "    print(\"\\nEstado actual:\", estado_actual)\n",
    "    entrada = input(\"Ingrese una opción (1-2): \")\n",
    "    \n",
    "    if entrada == \"1\":\n",
    "        if estado_actual == \"Bloqueado\":\n",
    "            estado_actual = \"Desbloqueado\"\n",
    "            print(\"Moneda aceptada. Torniquete desbloqueado.\")\n",
    "        else:\n",
    "            print(\"El torniquete ya está desbloqueado. No se aceptan más monedas.\")\n",
    "    \n",
    "    elif entrada == \"2\":\n",
    "        if estado_actual == \"Desbloqueado\":\n",
    "            estado_actual = \"Bloqueado\"\n",
    "            print(\"Empuje exitoso. Torniquete bloqueado nuevamente.\")\n",
    "        else:\n",
    "            print(\"Torniquete bloqueado. No se puede pasar sin echar moneda.\")\n",
    "    \n",
    "    else:\n",
    "        print(\"Opción no válida. Por favor ingrese 1 o 2.\")"
   ]
  }
 ],
 "metadata": {
  "kernelspec": {
   "display_name": ".venv",
   "language": "python",
   "name": "python3"
  },
  "language_info": {
   "codemirror_mode": {
    "name": "ipython",
    "version": 3
   },
   "file_extension": ".py",
   "mimetype": "text/x-python",
   "name": "python",
   "nbconvert_exporter": "python",
   "pygments_lexer": "ipython3",
   "version": "3.13.3"
  }
 },
 "nbformat": 4,
 "nbformat_minor": 5
}
