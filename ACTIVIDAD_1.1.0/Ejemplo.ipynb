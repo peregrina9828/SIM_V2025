{
 "cells": [
  {
   "cell_type": "markdown",
   "id": "ebb408b7",
   "metadata": {},
   "source": [
    "# Hello word!"
   ]
  },
  {
   "cell_type": "code",
   "execution_count": null,
   "id": "8d77c119",
   "metadata": {},
   "outputs": [],
   "source": [
    "print(\"Hello world!\")"
   ]
  },
  {
   "cell_type": "code",
   "execution_count": 1,
   "id": "c57b7759",
   "metadata": {},
   "outputs": [
    {
     "name": "stdout",
     "output_type": "stream",
     "text": [
      "Collecting numpy\n",
      "  Downloading numpy-2.2.6-cp313-cp313-win_amd64.whl.metadata (60 kB)\n",
      "Downloading numpy-2.2.6-cp313-cp313-win_amd64.whl (12.6 MB)\n",
      "   ---------------------------------------- 0.0/12.6 MB ? eta -:--:--\n",
      "   --- ------------------------------------ 1.0/12.6 MB 10.8 MB/s eta 0:00:02\n",
      "   ---------------- ----------------------- 5.2/12.6 MB 17.3 MB/s eta 0:00:01\n",
      "   -------------------------- ------------- 8.4/12.6 MB 16.9 MB/s eta 0:00:01\n",
      "   ---------------------------------- ----- 11.0/12.6 MB 15.7 MB/s eta 0:00:01\n",
      "   ---------------------------------------- 12.6/12.6 MB 16.0 MB/s eta 0:00:00\n",
      "Installing collected packages: numpy\n",
      "Successfully installed numpy-2.2.6\n",
      "Note: you may need to restart the kernel to use updated packages.\n"
     ]
    }
   ],
   "source": [
    "%pip install numpy"
   ]
  },
  {
   "cell_type": "code",
   "execution_count": 2,
   "id": "dfb8eadf",
   "metadata": {},
   "outputs": [
    {
     "name": "stdout",
     "output_type": "stream",
     "text": [
      "Collecting sympy\n",
      "  Downloading sympy-1.14.0-py3-none-any.whl.metadata (12 kB)\n",
      "Collecting mpmath<1.4,>=1.1.0 (from sympy)\n",
      "  Downloading mpmath-1.3.0-py3-none-any.whl.metadata (8.6 kB)\n",
      "Downloading sympy-1.14.0-py3-none-any.whl (6.3 MB)\n",
      "   ---------------------------------------- 0.0/6.3 MB ? eta -:--:--\n",
      "   --- ------------------------------------ 0.5/6.3 MB 4.2 MB/s eta 0:00:02\n",
      "   -------- ------------------------------- 1.3/6.3 MB 4.1 MB/s eta 0:00:02\n",
      "   -------------- ------------------------- 2.4/6.3 MB 4.7 MB/s eta 0:00:01\n",
      "   ------------------- -------------------- 3.1/6.3 MB 4.6 MB/s eta 0:00:01\n",
      "   ------------------------ --------------- 3.9/6.3 MB 4.0 MB/s eta 0:00:01\n",
      "   ----------------------------- ---------- 4.7/6.3 MB 4.0 MB/s eta 0:00:01\n",
      "   ------------------------------------ --- 5.8/6.3 MB 4.2 MB/s eta 0:00:01\n",
      "   ---------------------------------------- 6.3/6.3 MB 4.2 MB/s eta 0:00:00\n",
      "Downloading mpmath-1.3.0-py3-none-any.whl (536 kB)\n",
      "   ---------------------------------------- 0.0/536.2 kB ? eta -:--:--\n",
      "   ---------------------------------------- 536.2/536.2 kB 7.6 MB/s eta 0:00:00\n",
      "Installing collected packages: mpmath, sympy\n",
      "\n",
      "   ---------------------------------------- 0/2 [mpmath]\n",
      "   -------------------- ------------------- 1/2 [sympy]\n",
      "   -------------------- ------------------- 1/2 [sympy]\n",
      "   -------------------- ------------------- 1/2 [sympy]\n",
      "   -------------------- ------------------- 1/2 [sympy]\n",
      "   -------------------- ------------------- 1/2 [sympy]\n",
      "   -------------------- ------------------- 1/2 [sympy]\n",
      "   -------------------- ------------------- 1/2 [sympy]\n",
      "   -------------------- ------------------- 1/2 [sympy]\n",
      "   -------------------- ------------------- 1/2 [sympy]\n",
      "   -------------------- ------------------- 1/2 [sympy]\n",
      "   -------------------- ------------------- 1/2 [sympy]\n",
      "   -------------------- ------------------- 1/2 [sympy]\n",
      "   -------------------- ------------------- 1/2 [sympy]\n",
      "   -------------------- ------------------- 1/2 [sympy]\n",
      "   -------------------- ------------------- 1/2 [sympy]\n",
      "   -------------------- ------------------- 1/2 [sympy]\n",
      "   -------------------- ------------------- 1/2 [sympy]\n",
      "   -------------------- ------------------- 1/2 [sympy]\n",
      "   -------------------- ------------------- 1/2 [sympy]\n",
      "   -------------------- ------------------- 1/2 [sympy]\n",
      "   -------------------- ------------------- 1/2 [sympy]\n",
      "   -------------------- ------------------- 1/2 [sympy]\n",
      "   -------------------- ------------------- 1/2 [sympy]\n",
      "   -------------------- ------------------- 1/2 [sympy]\n",
      "   -------------------- ------------------- 1/2 [sympy]\n",
      "   -------------------- ------------------- 1/2 [sympy]\n",
      "   -------------------- ------------------- 1/2 [sympy]\n",
      "   ---------------------------------------- 2/2 [sympy]\n",
      "\n",
      "Successfully installed mpmath-1.3.0 sympy-1.14.0\n",
      "Note: you may need to restart the kernel to use updated packages.\n"
     ]
    }
   ],
   "source": [
    "%pip install sympy"
   ]
  },
  {
   "cell_type": "code",
   "execution_count": 3,
   "id": "0a417b60",
   "metadata": {},
   "outputs": [
    {
     "name": "stdout",
     "output_type": "stream",
     "text": [
      "Collecting matplotlib\n",
      "  Downloading matplotlib-3.10.3-cp313-cp313-win_amd64.whl.metadata (11 kB)\n",
      "Collecting contourpy>=1.0.1 (from matplotlib)\n",
      "  Downloading contourpy-1.3.2-cp313-cp313-win_amd64.whl.metadata (5.5 kB)\n",
      "Collecting cycler>=0.10 (from matplotlib)\n",
      "  Downloading cycler-0.12.1-py3-none-any.whl.metadata (3.8 kB)\n",
      "Collecting fonttools>=4.22.0 (from matplotlib)\n",
      "  Downloading fonttools-4.58.0-cp313-cp313-win_amd64.whl.metadata (106 kB)\n",
      "Collecting kiwisolver>=1.3.1 (from matplotlib)\n",
      "  Downloading kiwisolver-1.4.8-cp313-cp313-win_amd64.whl.metadata (6.3 kB)\n",
      "Requirement already satisfied: numpy>=1.23 in c:\\users\\juanp\\onedrive\\documents\\sim_v2025\\.venv\\lib\\site-packages (from matplotlib) (2.2.6)\n",
      "Requirement already satisfied: packaging>=20.0 in c:\\users\\juanp\\onedrive\\documents\\sim_v2025\\.venv\\lib\\site-packages (from matplotlib) (25.0)\n",
      "Collecting pillow>=8 (from matplotlib)\n",
      "  Downloading pillow-11.2.1-cp313-cp313-win_amd64.whl.metadata (9.1 kB)\n",
      "Collecting pyparsing>=2.3.1 (from matplotlib)\n",
      "  Downloading pyparsing-3.2.3-py3-none-any.whl.metadata (5.0 kB)\n",
      "Requirement already satisfied: python-dateutil>=2.7 in c:\\users\\juanp\\onedrive\\documents\\sim_v2025\\.venv\\lib\\site-packages (from matplotlib) (2.9.0.post0)\n",
      "Requirement already satisfied: six>=1.5 in c:\\users\\juanp\\onedrive\\documents\\sim_v2025\\.venv\\lib\\site-packages (from python-dateutil>=2.7->matplotlib) (1.17.0)\n",
      "Downloading matplotlib-3.10.3-cp313-cp313-win_amd64.whl (8.1 MB)\n",
      "   ---------------------------------------- 0.0/8.1 MB ? eta -:--:--\n",
      "   ----- ---------------------------------- 1.0/8.1 MB 6.3 MB/s eta 0:00:02\n",
      "   -------------- ------------------------- 2.9/8.1 MB 7.2 MB/s eta 0:00:01\n",
      "   ----------------------- ---------------- 4.7/8.1 MB 7.7 MB/s eta 0:00:01\n",
      "   ----------------------------------- ---- 7.1/8.1 MB 8.7 MB/s eta 0:00:01\n",
      "   ---------------------------------------- 8.1/8.1 MB 8.7 MB/s eta 0:00:00\n",
      "Downloading contourpy-1.3.2-cp313-cp313-win_amd64.whl (223 kB)\n",
      "Downloading cycler-0.12.1-py3-none-any.whl (8.3 kB)\n",
      "Downloading fonttools-4.58.0-cp313-cp313-win_amd64.whl (2.2 MB)\n",
      "   ---------------------------------------- 0.0/2.2 MB ? eta -:--:--\n",
      "   ---------------------------------------- 2.2/2.2 MB 13.3 MB/s eta 0:00:00\n",
      "Downloading kiwisolver-1.4.8-cp313-cp313-win_amd64.whl (71 kB)\n",
      "Downloading pillow-11.2.1-cp313-cp313-win_amd64.whl (2.7 MB)\n",
      "   ---------------------------------------- 0.0/2.7 MB ? eta -:--:--\n",
      "   ---------------------------------------  2.6/2.7 MB 14.9 MB/s eta 0:00:01\n",
      "   ---------------------------------------- 2.7/2.7 MB 11.8 MB/s eta 0:00:00\n",
      "Downloading pyparsing-3.2.3-py3-none-any.whl (111 kB)\n",
      "Installing collected packages: pyparsing, pillow, kiwisolver, fonttools, cycler, contourpy, matplotlib\n",
      "\n",
      "   ----- ---------------------------------- 1/7 [pillow]\n",
      "   ----------- ---------------------------- 2/7 [kiwisolver]\n",
      "   ----------------- ---------------------- 3/7 [fonttools]\n",
      "   ----------------- ---------------------- 3/7 [fonttools]\n",
      "   ----------------- ---------------------- 3/7 [fonttools]\n",
      "   ----------------- ---------------------- 3/7 [fonttools]\n",
      "   ---------------------------------- ----- 6/7 [matplotlib]\n",
      "   ---------------------------------- ----- 6/7 [matplotlib]\n",
      "   ---------------------------------- ----- 6/7 [matplotlib]\n",
      "   ---------------------------------- ----- 6/7 [matplotlib]\n",
      "   ---------------------------------- ----- 6/7 [matplotlib]\n",
      "   ---------------------------------- ----- 6/7 [matplotlib]\n",
      "   ---------------------------------- ----- 6/7 [matplotlib]\n",
      "   ---------------------------------------- 7/7 [matplotlib]\n",
      "\n",
      "Successfully installed contourpy-1.3.2 cycler-0.12.1 fonttools-4.58.0 kiwisolver-1.4.8 matplotlib-3.10.3 pillow-11.2.1 pyparsing-3.2.3\n",
      "Note: you may need to restart the kernel to use updated packages.\n"
     ]
    }
   ],
   "source": [
    "%pip install matplotlib"
   ]
  },
  {
   "cell_type": "code",
   "execution_count": 4,
   "id": "83e40e98",
   "metadata": {},
   "outputs": [
    {
     "name": "stdout",
     "output_type": "stream",
     "text": [
      "Collecting pandas\n",
      "  Downloading pandas-2.2.3-cp313-cp313-win_amd64.whl.metadata (19 kB)\n",
      "Requirement already satisfied: numpy>=1.26.0 in c:\\users\\juanp\\onedrive\\documents\\sim_v2025\\.venv\\lib\\site-packages (from pandas) (2.2.6)\n",
      "Requirement already satisfied: python-dateutil>=2.8.2 in c:\\users\\juanp\\onedrive\\documents\\sim_v2025\\.venv\\lib\\site-packages (from pandas) (2.9.0.post0)\n",
      "Collecting pytz>=2020.1 (from pandas)\n",
      "  Downloading pytz-2025.2-py2.py3-none-any.whl.metadata (22 kB)\n",
      "Collecting tzdata>=2022.7 (from pandas)\n",
      "  Downloading tzdata-2025.2-py2.py3-none-any.whl.metadata (1.4 kB)\n",
      "Requirement already satisfied: six>=1.5 in c:\\users\\juanp\\onedrive\\documents\\sim_v2025\\.venv\\lib\\site-packages (from python-dateutil>=2.8.2->pandas) (1.17.0)\n",
      "Downloading pandas-2.2.3-cp313-cp313-win_amd64.whl (11.5 MB)\n",
      "   ---------------------------------------- 0.0/11.5 MB ? eta -:--:--\n",
      "   ---------------------------------------- 0.0/11.5 MB ? eta -:--:--\n",
      "   ---------------------------------------- 0.0/11.5 MB ? eta -:--:--\n",
      "    --------------------------------------- 0.3/11.5 MB ? eta -:--:--\n",
      "   - -------------------------------------- 0.5/11.5 MB 1.7 MB/s eta 0:00:07\n",
      "   ---- ----------------------------------- 1.3/11.5 MB 2.3 MB/s eta 0:00:05\n",
      "   ------ --------------------------------- 1.8/11.5 MB 2.4 MB/s eta 0:00:05\n",
      "   --------- ------------------------------ 2.6/11.5 MB 2.7 MB/s eta 0:00:04\n",
      "   ----------- ---------------------------- 3.4/11.5 MB 2.9 MB/s eta 0:00:03\n",
      "   --------------- ------------------------ 4.5/11.5 MB 3.2 MB/s eta 0:00:03\n",
      "   -------------------- ------------------- 5.8/11.5 MB 3.6 MB/s eta 0:00:02\n",
      "   ------------------------- -------------- 7.3/11.5 MB 4.1 MB/s eta 0:00:02\n",
      "   ------------------------------- -------- 9.2/11.5 MB 4.6 MB/s eta 0:00:01\n",
      "   ---------------------------------------  11.3/11.5 MB 5.1 MB/s eta 0:00:01\n",
      "   ---------------------------------------- 11.5/11.5 MB 5.1 MB/s eta 0:00:00\n",
      "Downloading pytz-2025.2-py2.py3-none-any.whl (509 kB)\n",
      "Downloading tzdata-2025.2-py2.py3-none-any.whl (347 kB)\n",
      "Installing collected packages: pytz, tzdata, pandas\n",
      "\n",
      "   ---------------------------------------- 0/3 [pytz]\n",
      "   ------------- -------------------------- 1/3 [tzdata]\n",
      "   -------------------------- ------------- 2/3 [pandas]\n",
      "   -------------------------- ------------- 2/3 [pandas]\n",
      "   -------------------------- ------------- 2/3 [pandas]\n",
      "   -------------------------- ------------- 2/3 [pandas]\n",
      "   -------------------------- ------------- 2/3 [pandas]\n",
      "   -------------------------- ------------- 2/3 [pandas]\n",
      "   -------------------------- ------------- 2/3 [pandas]\n",
      "   -------------------------- ------------- 2/3 [pandas]\n",
      "   -------------------------- ------------- 2/3 [pandas]\n",
      "   -------------------------- ------------- 2/3 [pandas]\n",
      "   -------------------------- ------------- 2/3 [pandas]\n",
      "   -------------------------- ------------- 2/3 [pandas]\n",
      "   -------------------------- ------------- 2/3 [pandas]\n",
      "   -------------------------- ------------- 2/3 [pandas]\n",
      "   -------------------------- ------------- 2/3 [pandas]\n",
      "   -------------------------- ------------- 2/3 [pandas]\n",
      "   -------------------------- ------------- 2/3 [pandas]\n",
      "   -------------------------- ------------- 2/3 [pandas]\n",
      "   -------------------------- ------------- 2/3 [pandas]\n",
      "   -------------------------- ------------- 2/3 [pandas]\n",
      "   -------------------------- ------------- 2/3 [pandas]\n",
      "   -------------------------- ------------- 2/3 [pandas]\n",
      "   -------------------------- ------------- 2/3 [pandas]\n",
      "   ---------------------------------------- 3/3 [pandas]\n",
      "\n",
      "Successfully installed pandas-2.2.3 pytz-2025.2 tzdata-2025.2\n",
      "Note: you may need to restart the kernel to use updated packages.\n"
     ]
    }
   ],
   "source": [
    "%pip install pandas"
   ]
  },
  {
   "cell_type": "code",
   "execution_count": 5,
   "id": "76d5d8a3",
   "metadata": {},
   "outputs": [
    {
     "name": "stdout",
     "output_type": "stream",
     "text": [
      "Collecting scipy\n",
      "  Downloading scipy-1.15.3-cp313-cp313-win_amd64.whl.metadata (60 kB)\n",
      "Requirement already satisfied: numpy<2.5,>=1.23.5 in c:\\users\\juanp\\onedrive\\documents\\sim_v2025\\.venv\\lib\\site-packages (from scipy) (2.2.6)\n",
      "Downloading scipy-1.15.3-cp313-cp313-win_amd64.whl (41.0 MB)\n",
      "   ---------------------------------------- 0.0/41.0 MB ? eta -:--:--\n",
      "    --------------------------------------- 0.5/41.0 MB 3.1 MB/s eta 0:00:13\n",
      "   - -------------------------------------- 1.3/41.0 MB 3.5 MB/s eta 0:00:12\n",
      "   -- ------------------------------------- 2.4/41.0 MB 4.0 MB/s eta 0:00:10\n",
      "   --- ------------------------------------ 3.4/41.0 MB 4.6 MB/s eta 0:00:09\n",
      "   ---- ----------------------------------- 5.0/41.0 MB 5.1 MB/s eta 0:00:08\n",
      "   ------ --------------------------------- 6.8/41.0 MB 5.8 MB/s eta 0:00:06\n",
      "   -------- ------------------------------- 9.2/41.0 MB 6.7 MB/s eta 0:00:05\n",
      "   ----------- ---------------------------- 12.1/41.0 MB 7.7 MB/s eta 0:00:04\n",
      "   -------------- ------------------------- 14.4/41.0 MB 8.3 MB/s eta 0:00:04\n",
      "   ----------------- ---------------------- 17.8/41.0 MB 9.1 MB/s eta 0:00:03\n",
      "   -------------------- ------------------- 21.5/41.0 MB 9.9 MB/s eta 0:00:02\n",
      "   ------------------------- -------------- 26.0/41.0 MB 10.8 MB/s eta 0:00:02\n",
      "   ---------------------------- ----------- 29.4/41.0 MB 11.3 MB/s eta 0:00:02\n",
      "   ------------------------------- -------- 32.0/41.0 MB 11.6 MB/s eta 0:00:01\n",
      "   ---------------------------------- ----- 35.4/41.0 MB 11.8 MB/s eta 0:00:01\n",
      "   -------------------------------------- - 39.6/41.0 MB 12.3 MB/s eta 0:00:01\n",
      "   ---------------------------------------- 41.0/41.0 MB 12.3 MB/s eta 0:00:00\n",
      "Installing collected packages: scipy\n",
      "Successfully installed scipy-1.15.3\n",
      "Note: you may need to restart the kernel to use updated packages.\n"
     ]
    }
   ],
   "source": [
    "%pip install scipy"
   ]
  },
  {
   "cell_type": "code",
   "execution_count": 6,
   "id": "05c44959",
   "metadata": {},
   "outputs": [
    {
     "name": "stdout",
     "output_type": "stream",
     "text": [
      "Collecting yfinance\n",
      "  Downloading yfinance-0.2.61-py2.py3-none-any.whl.metadata (5.8 kB)\n",
      "Requirement already satisfied: pandas>=1.3.0 in c:\\users\\juanp\\onedrive\\documents\\sim_v2025\\.venv\\lib\\site-packages (from yfinance) (2.2.3)\n",
      "Requirement already satisfied: numpy>=1.16.5 in c:\\users\\juanp\\onedrive\\documents\\sim_v2025\\.venv\\lib\\site-packages (from yfinance) (2.2.6)\n",
      "Collecting requests>=2.31 (from yfinance)\n",
      "  Downloading requests-2.32.3-py3-none-any.whl.metadata (4.6 kB)\n",
      "Collecting multitasking>=0.0.7 (from yfinance)\n",
      "  Downloading multitasking-0.0.11-py3-none-any.whl.metadata (5.5 kB)\n",
      "Requirement already satisfied: platformdirs>=2.0.0 in c:\\users\\juanp\\onedrive\\documents\\sim_v2025\\.venv\\lib\\site-packages (from yfinance) (4.3.8)\n",
      "Requirement already satisfied: pytz>=2022.5 in c:\\users\\juanp\\onedrive\\documents\\sim_v2025\\.venv\\lib\\site-packages (from yfinance) (2025.2)\n",
      "Collecting frozendict>=2.3.4 (from yfinance)\n",
      "  Downloading frozendict-2.4.6-py313-none-any.whl.metadata (23 kB)\n",
      "Collecting peewee>=3.16.2 (from yfinance)\n",
      "  Downloading peewee-3.18.1.tar.gz (3.0 MB)\n",
      "     ---------------------------------------- 0.0/3.0 MB ? eta -:--:--\n",
      "     --- ------------------------------------ 0.3/3.0 MB ? eta -:--:--\n",
      "     ---------- ----------------------------- 0.8/3.0 MB 2.4 MB/s eta 0:00:01\n",
      "     ----------------- ---------------------- 1.3/3.0 MB 2.5 MB/s eta 0:00:01\n",
      "     ------------------------------- -------- 2.4/3.0 MB 3.1 MB/s eta 0:00:01\n",
      "     ---------------------------------------- 3.0/3.0 MB 3.2 MB/s eta 0:00:00\n",
      "  Installing build dependencies: started\n",
      "  Installing build dependencies: finished with status 'done'\n",
      "  Getting requirements to build wheel: started\n",
      "  Getting requirements to build wheel: finished with status 'done'\n",
      "  Preparing metadata (pyproject.toml): started\n",
      "  Preparing metadata (pyproject.toml): finished with status 'done'\n",
      "Collecting beautifulsoup4>=4.11.1 (from yfinance)\n",
      "  Downloading beautifulsoup4-4.13.4-py3-none-any.whl.metadata (3.8 kB)\n",
      "Collecting curl_cffi>=0.7 (from yfinance)\n",
      "  Downloading curl_cffi-0.11.1-cp39-abi3-win_amd64.whl.metadata (15 kB)\n",
      "Collecting protobuf>=3.19.0 (from yfinance)\n",
      "  Downloading protobuf-6.31.0-cp310-abi3-win_amd64.whl.metadata (593 bytes)\n",
      "Collecting websockets>=13.0 (from yfinance)\n",
      "  Downloading websockets-15.0.1-cp313-cp313-win_amd64.whl.metadata (7.0 kB)\n",
      "Collecting soupsieve>1.2 (from beautifulsoup4>=4.11.1->yfinance)\n",
      "  Downloading soupsieve-2.7-py3-none-any.whl.metadata (4.6 kB)\n",
      "Collecting typing-extensions>=4.0.0 (from beautifulsoup4>=4.11.1->yfinance)\n",
      "  Downloading typing_extensions-4.13.2-py3-none-any.whl.metadata (3.0 kB)\n",
      "Collecting cffi>=1.12.0 (from curl_cffi>=0.7->yfinance)\n",
      "  Downloading cffi-1.17.1-cp313-cp313-win_amd64.whl.metadata (1.6 kB)\n",
      "Collecting certifi>=2024.2.2 (from curl_cffi>=0.7->yfinance)\n",
      "  Downloading certifi-2025.4.26-py3-none-any.whl.metadata (2.5 kB)\n",
      "Collecting pycparser (from cffi>=1.12.0->curl_cffi>=0.7->yfinance)\n",
      "  Downloading pycparser-2.22-py3-none-any.whl.metadata (943 bytes)\n",
      "Requirement already satisfied: python-dateutil>=2.8.2 in c:\\users\\juanp\\onedrive\\documents\\sim_v2025\\.venv\\lib\\site-packages (from pandas>=1.3.0->yfinance) (2.9.0.post0)\n",
      "Requirement already satisfied: tzdata>=2022.7 in c:\\users\\juanp\\onedrive\\documents\\sim_v2025\\.venv\\lib\\site-packages (from pandas>=1.3.0->yfinance) (2025.2)\n",
      "Requirement already satisfied: six>=1.5 in c:\\users\\juanp\\onedrive\\documents\\sim_v2025\\.venv\\lib\\site-packages (from python-dateutil>=2.8.2->pandas>=1.3.0->yfinance) (1.17.0)\n",
      "Collecting charset-normalizer<4,>=2 (from requests>=2.31->yfinance)\n",
      "  Downloading charset_normalizer-3.4.2-cp313-cp313-win_amd64.whl.metadata (36 kB)\n",
      "Collecting idna<4,>=2.5 (from requests>=2.31->yfinance)\n",
      "  Downloading idna-3.10-py3-none-any.whl.metadata (10 kB)\n",
      "Collecting urllib3<3,>=1.21.1 (from requests>=2.31->yfinance)\n",
      "  Downloading urllib3-2.4.0-py3-none-any.whl.metadata (6.5 kB)\n",
      "Downloading yfinance-0.2.61-py2.py3-none-any.whl (117 kB)\n",
      "Downloading beautifulsoup4-4.13.4-py3-none-any.whl (187 kB)\n",
      "Downloading curl_cffi-0.11.1-cp39-abi3-win_amd64.whl (1.4 MB)\n",
      "   ---------------------------------------- 0.0/1.4 MB ? eta -:--:--\n",
      "   -------------- ------------------------- 0.5/1.4 MB 2.8 MB/s eta 0:00:01\n",
      "   ---------------------------------------- 1.4/1.4 MB 4.0 MB/s eta 0:00:00\n",
      "Downloading certifi-2025.4.26-py3-none-any.whl (159 kB)\n",
      "Downloading cffi-1.17.1-cp313-cp313-win_amd64.whl (182 kB)\n",
      "Downloading frozendict-2.4.6-py313-none-any.whl (16 kB)\n",
      "Downloading multitasking-0.0.11-py3-none-any.whl (8.5 kB)\n",
      "Downloading protobuf-6.31.0-cp310-abi3-win_amd64.whl (435 kB)\n",
      "Downloading requests-2.32.3-py3-none-any.whl (64 kB)\n",
      "Downloading charset_normalizer-3.4.2-cp313-cp313-win_amd64.whl (105 kB)\n",
      "Downloading idna-3.10-py3-none-any.whl (70 kB)\n",
      "Downloading urllib3-2.4.0-py3-none-any.whl (128 kB)\n",
      "Downloading soupsieve-2.7-py3-none-any.whl (36 kB)\n",
      "Downloading typing_extensions-4.13.2-py3-none-any.whl (45 kB)\n",
      "Downloading websockets-15.0.1-cp313-cp313-win_amd64.whl (176 kB)\n",
      "Downloading pycparser-2.22-py3-none-any.whl (117 kB)\n",
      "Building wheels for collected packages: peewee\n",
      "  Building wheel for peewee (pyproject.toml): started\n",
      "  Building wheel for peewee (pyproject.toml): finished with status 'done'\n",
      "  Created wheel for peewee: filename=peewee-3.18.1-py3-none-any.whl size=139098 sha256=0cd4ccd52aaf0a9aca469968af9669a467ad55527f5d7a2dd91e076daade8117\n",
      "  Stored in directory: c:\\users\\juanp\\appdata\\local\\pip\\cache\\wheels\\91\\08\\75\\7ec051c4c2b139cc4aa3a4ae6059d80900c301473b215aad59\n",
      "Successfully built peewee\n",
      "Installing collected packages: peewee, multitasking, websockets, urllib3, typing-extensions, soupsieve, pycparser, protobuf, idna, frozendict, charset-normalizer, certifi, requests, cffi, beautifulsoup4, curl_cffi, yfinance\n",
      "\n",
      "   ---- -----------------------------------  2/17 [websockets]\n",
      "   --------- ------------------------------  4/17 [typing-extensions]\n",
      "   ---------------- -----------------------  7/17 [protobuf]\n",
      "   --------------------- ------------------  9/17 [frozendict]\n",
      "   -------------------------------- ------- 14/17 [beautifulsoup4]\n",
      "   ------------------------------------- -- 16/17 [yfinance]\n",
      "   ---------------------------------------- 17/17 [yfinance]\n",
      "\n",
      "Successfully installed beautifulsoup4-4.13.4 certifi-2025.4.26 cffi-1.17.1 charset-normalizer-3.4.2 curl_cffi-0.11.1 frozendict-2.4.6 idna-3.10 multitasking-0.0.11 peewee-3.18.1 protobuf-6.31.0 pycparser-2.22 requests-2.32.3 soupsieve-2.7 typing-extensions-4.13.2 urllib3-2.4.0 websockets-15.0.1 yfinance-0.2.61\n",
      "Note: you may need to restart the kernel to use updated packages.\n"
     ]
    }
   ],
   "source": [
    "%pip install yfinance"
   ]
  },
  {
   "cell_type": "code",
   "execution_count": 7,
   "id": "37770f35",
   "metadata": {},
   "outputs": [
    {
     "name": "stdout",
     "output_type": "stream",
     "text": [
      "Collecting scikit-learn\n",
      "  Downloading scikit_learn-1.6.1-cp313-cp313-win_amd64.whl.metadata (15 kB)\n",
      "Requirement already satisfied: numpy>=1.19.5 in c:\\users\\juanp\\onedrive\\documents\\sim_v2025\\.venv\\lib\\site-packages (from scikit-learn) (2.2.6)\n",
      "Requirement already satisfied: scipy>=1.6.0 in c:\\users\\juanp\\onedrive\\documents\\sim_v2025\\.venv\\lib\\site-packages (from scikit-learn) (1.15.3)\n",
      "Collecting joblib>=1.2.0 (from scikit-learn)\n",
      "  Downloading joblib-1.5.1-py3-none-any.whl.metadata (5.6 kB)\n",
      "Collecting threadpoolctl>=3.1.0 (from scikit-learn)\n",
      "  Downloading threadpoolctl-3.6.0-py3-none-any.whl.metadata (13 kB)\n",
      "Downloading scikit_learn-1.6.1-cp313-cp313-win_amd64.whl (11.1 MB)\n",
      "   ---------------------------------------- 0.0/11.1 MB ? eta -:--:--\n",
      "   ---------------------------------------- 0.0/11.1 MB ? eta -:--:--\n",
      "    --------------------------------------- 0.3/11.1 MB ? eta -:--:--\n",
      "   -- ------------------------------------- 0.8/11.1 MB 1.7 MB/s eta 0:00:07\n",
      "   ---- ----------------------------------- 1.3/11.1 MB 1.9 MB/s eta 0:00:06\n",
      "   ------ --------------------------------- 1.8/11.1 MB 2.1 MB/s eta 0:00:05\n",
      "   -------- ------------------------------- 2.4/11.1 MB 2.3 MB/s eta 0:00:04\n",
      "   ----------- ---------------------------- 3.1/11.1 MB 2.4 MB/s eta 0:00:04\n",
      "   ------------- -------------------------- 3.7/11.1 MB 2.5 MB/s eta 0:00:03\n",
      "   ----------------- ---------------------- 4.7/11.1 MB 2.8 MB/s eta 0:00:03\n",
      "   -------------------- ------------------- 5.8/11.1 MB 3.1 MB/s eta 0:00:02\n",
      "   --------------------------- ------------ 7.6/11.1 MB 3.7 MB/s eta 0:00:01\n",
      "   ----------------------------------- ---- 9.7/11.1 MB 4.3 MB/s eta 0:00:01\n",
      "   ---------------------------------------- 11.1/11.1 MB 4.6 MB/s eta 0:00:00\n",
      "Downloading joblib-1.5.1-py3-none-any.whl (307 kB)\n",
      "Downloading threadpoolctl-3.6.0-py3-none-any.whl (18 kB)\n",
      "Installing collected packages: threadpoolctl, joblib, scikit-learn\n",
      "\n",
      "   ------------- -------------------------- 1/3 [joblib]\n",
      "   -------------------------- ------------- 2/3 [scikit-learn]\n",
      "   -------------------------- ------------- 2/3 [scikit-learn]\n",
      "   -------------------------- ------------- 2/3 [scikit-learn]\n",
      "   -------------------------- ------------- 2/3 [scikit-learn]\n",
      "   -------------------------- ------------- 2/3 [scikit-learn]\n",
      "   -------------------------- ------------- 2/3 [scikit-learn]\n",
      "   -------------------------- ------------- 2/3 [scikit-learn]\n",
      "   -------------------------- ------------- 2/3 [scikit-learn]\n",
      "   -------------------------- ------------- 2/3 [scikit-learn]\n",
      "   -------------------------- ------------- 2/3 [scikit-learn]\n",
      "   -------------------------- ------------- 2/3 [scikit-learn]\n",
      "   -------------------------- ------------- 2/3 [scikit-learn]\n",
      "   -------------------------- ------------- 2/3 [scikit-learn]\n",
      "   -------------------------- ------------- 2/3 [scikit-learn]\n",
      "   ---------------------------------------- 3/3 [scikit-learn]\n",
      "\n",
      "Successfully installed joblib-1.5.1 scikit-learn-1.6.1 threadpoolctl-3.6.0\n",
      "Note: you may need to restart the kernel to use updated packages.\n"
     ]
    }
   ],
   "source": [
    "%pip install scikit-learn"
   ]
  },
  {
   "cell_type": "code",
   "execution_count": 10,
   "id": "b775798f",
   "metadata": {},
   "outputs": [
    {
     "name": "stdout",
     "output_type": "stream",
     "text": [
      "Todas las librerías están instaladas correctamente.\n"
     ]
    }
   ],
   "source": [
    "import numpy as np\n",
    "import sympy as sym\n",
    "import matplotlib.pyplot as plt\n",
    "import pandas as pd\n",
    "import scipy.optimize as opt\n",
    "import yfinance as yf\n",
    "from sklearn.preprocessing import StandardScaler\n",
    "print(\"Todas las librerías están instaladas correctamente.\")"
   ]
  },
  {
   "cell_type": "code",
   "execution_count": 11,
   "id": "077920a3",
   "metadata": {},
   "outputs": [
    {
     "name": "stdout",
     "output_type": "stream",
     "text": [
      "Array: [1 2 3 4 5]\n",
      "Suma del array: 15\n"
     ]
    }
   ],
   "source": [
    "import numpy as np\n",
    "# Crear un array y calcular su suma\n",
    "array = np.array([1, 2, 3, 4, 5])\n",
    "print(\"Array:\", array)\n",
    "print(\"Suma del array:\", np.sum(array))"
   ]
  },
  {
   "cell_type": "code",
   "execution_count": 12,
   "id": "591bf61a",
   "metadata": {},
   "outputs": [
    {
     "name": "stdout",
     "output_type": "stream",
     "text": [
      "Función: x**2 + 3*x + 2\n",
      "Derivada: 2*x + 3\n"
     ]
    }
   ],
   "source": [
    " import sympy as sym\n",
    " # Definir una variable simbólica y calcular la derivada\n",
    " x = sym.Symbol('x')\n",
    " func = x**2 + 3*x + 2\n",
    " derivada = sym.diff(func, x)\n",
    " print(\"Función:\", func)\n",
    " print(\"Derivada:\", derivada)"
   ]
  },
  {
   "cell_type": "code",
   "execution_count": 14,
   "id": "fd2aeaab",
   "metadata": {},
   "outputs": [
    {
     "data": {
      "image/png": "[encoded data removed]",
      "text/plain": [
       "<Figure size 640x480 with 1 Axes>"
      ]
     },
     "metadata": {},
     "output_type": "display_data"
    }
   ],
   "source": [
    "import matplotlib.pyplot as plt\n",
    "# Crear un gráfico simple\n",
    "x = [1, 2, 3, 4, 5]\n",
    "y = [1, 4, 9, 16, 25]\n",
    "plt.plot(x, y, marker='o')\n",
    "plt.title(\"Gráfico de x vs y\")\n",
    "plt.xlabel(\"x\")\n",
    "plt.ylabel(\"y\")\n",
    "plt.grid(True)\n",
    "plt.show()"
   ]
  },
  {
   "cell_type": "code",
   "execution_count": 15,
   "id": "889b2065",
   "metadata": {},
   "outputs": [
    {
     "name": "stdout",
     "output_type": "stream",
     "text": [
      "DataFrame:\n",
      "  Nombre  Edad\n",
      "0    Ana    25\n",
      "1   Luis    30\n",
      "2  María    22\n",
      "\n",
      "Edades promedio: 25.666666666666668\n"
     ]
    }
   ],
   "source": [
    " import pandas as pd\n",
    " # Crear un DataFrame y realizar operaciones básicas\n",
    " data = {'Nombre': ['Ana', 'Luis', 'María'], 'Edad': [25, 30, 22]}\n",
    " df = pd.DataFrame(data)\n",
    " print(\"DataFrame:\")\n",
    " print(df)\n",
    " print(\"\\nEdades promedio:\", df['Edad'].mean())"
   ]
  },
  {
   "cell_type": "code",
   "execution_count": 19,
   "id": "9d087388",
   "metadata": {},
   "outputs": [
    {
     "name": "stdout",
     "output_type": "stream",
     "text": [
      "Punto mínimo: [-1.50000001]\n"
     ]
    }
   ],
   "source": [
    "import scipy.optimize as opt\n",
    "# Encontrar el mínimo de una función cuadrática\n",
    "def f(x):\n",
    "    return x**2 + 3*x + 2\n",
    "resultado = opt.minimize(f, x0=0)  # x0 es el punto inicial\n",
    "print(\"Punto mínimo:\", resultado.x)"
   ]
  },
  {
   "cell_type": "code",
   "execution_count": 21,
   "id": "0b8195ae",
   "metadata": {},
   "outputs": [
    {
     "name": "stdout",
     "output_type": "stream",
     "text": [
      "Tiempo de ejecución: 0.014879226684570312 segundos\n"
     ]
    }
   ],
   "source": [
    " import time\n",
    " # Medir cuánto tiempo tarda un bucle\n",
    " start_time = time.time()\n",
    " for i in range(1000000):\n",
    "    pass\n",
    " end_time = time.time()\n",
    " print(\"Tiempo de ejecución:\", end_time - start_time, \"segundos\")"
   ]
  },
  {
   "cell_type": "code",
   "execution_count": 22,
   "id": "dba155fd",
   "metadata": {},
   "outputs": [
    {
     "name": "stdout",
     "output_type": "stream",
     "text": [
      "Datos históricos de AAPL:\n",
      "                                 Open        High         Low       Close  \\\n",
      "Date                                                                        \n",
      "2025-05-19 00:00:00-04:00  207.910004  209.479996  204.259995  208.779999   \n",
      "2025-05-20 00:00:00-04:00  207.669998  208.470001  205.029999  206.860001   \n",
      "2025-05-21 00:00:00-04:00  205.169998  207.039993  200.710007  202.089996   \n",
      "2025-05-22 00:00:00-04:00  200.710007  202.750000  199.699997  201.360001   \n",
      "2025-05-23 00:00:00-04:00  193.669998  197.699997  193.460007  195.270004   \n",
      "\n",
      "                             Volume  Dividends  Stock Splits  \n",
      "Date                                                          \n",
      "2025-05-19 00:00:00-04:00  46140500        0.0           0.0  \n",
      "2025-05-20 00:00:00-04:00  42496600        0.0           0.0  \n",
      "2025-05-21 00:00:00-04:00  59211800        0.0           0.0  \n",
      "2025-05-22 00:00:00-04:00  46742400        0.0           0.0  \n",
      "2025-05-23 00:00:00-04:00  78314800        0.0           0.0  \n"
     ]
    }
   ],
   "source": [
    "import yfinance as yf\n",
    "# Descargar datos históricos de una acción\n",
    "apple = yf.Ticker(\"AAPL\")\n",
    "hist = apple.history(period=\"5d\")  # Últimos 5 días\n",
    "print(\"Datos históricos de AAPL:\")\n",
    "print(hist)"
   ]
  },
  {
   "cell_type": "code",
   "execution_count": 23,
   "id": "462a3a3c",
   "metadata": {},
   "outputs": [
    {
     "name": "stdout",
     "output_type": "stream",
     "text": [
      "Datos originales:\n",
      "[[1 2 3]\n",
      " [4 5 6]\n",
      " [7 8 9]]\n",
      "\n",
      "Datos escalados:\n",
      "[[-1.22474487 -1.22474487 -1.22474487]\n",
      " [ 0.          0.          0.        ]\n",
      " [ 1.22474487  1.22474487  1.22474487]]\n"
     ]
    }
   ],
   "source": [
    " from sklearn.preprocessing import StandardScaler\n",
    " import numpy as np\n",
    " # Escalar datos\n",
    " data = np.array([[1, 2, 3], [4, 5, 6], [7, 8, 9]])\n",
    " scaler = StandardScaler()\n",
    " scaled_data = scaler.fit_transform(data)\n",
    " print(\"Datos originales:\")\n",
    " print(data)\n",
    " print(\"\\nDatos escalados:\")\n",
    " print(scaled_data)"
   ]
  }
 ],
 "metadata": {
  "kernelspec": {
   "display_name": ".venv",
   "language": "python",
   "name": "python3"
  },
  "language_info": {
   "codemirror_mode": {
    "name": "ipython",
    "version": 3
   },
   "file_extension": ".py",
   "mimetype": "text/x-python",
   "name": "python",
   "nbconvert_exporter": "python",
   "pygments_lexer": "ipython3",
   "version": "3.13.3"
  }
 },
 "nbformat": 4,
 "nbformat_minor": 5
}
