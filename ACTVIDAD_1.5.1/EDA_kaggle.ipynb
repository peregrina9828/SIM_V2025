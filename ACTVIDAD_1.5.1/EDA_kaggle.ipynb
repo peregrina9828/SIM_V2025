{
 "cells": [
  {
   "cell_type": "markdown",
   "id": "7d7e2f60",
   "metadata": {},
   "source": [
    "<p align=\"center\">\n",
    "  <img src=\"https://oci02.img.iteso.mx/Identidades-De-Instancia/ITESO/Logos%20ITESO/Logo-ITESO-Principal.jpg\" alt=\"ITESO Logo\" width=\"400\">\n",
    "</p>\n",
    "\n",
    "<h1 align=\"center\">Simulación Matemática</h1>\n",
    "<h3 align=\"center\">Departamento de Matemáticas y Física</h3>\n",
    "\n",
    "- **Nombre del estudiante:** _______________________________\n",
    "\n",
    "- **Número de Matrícula:** ________________________\n",
    "\n",
    "- **Nombre del profesor:** Alejandro Noel Hernández Gutiérrez\n",
    "\n",
    "- **Fecha de entrega:** _________________________________\n",
    "\n",
    "- **Nombre del proyecto / práctica:** \n",
    "\n",
    "- **Tema:** ______________________________________________"
   ]
  },
  {
   "cell_type": "markdown",
   "id": "86d41c05",
   "metadata": {},
   "source": [
    "# Instrucciones de la práctica\n",
    "-  Encuenta un conjunto de datos sobre algún tema de tu carrera y de tu interés en esta página https://www.kaggle.com/datasets\n",
    "\n",
    "## Características que debes buscar\n",
    "    - Tu conjunto de datos debe tener una variable de salida (lo que intenta predecir o clasificar el dataset. Ejemplo Outcome (1,0), donde 1 era diabetes positivo y 0 libre de diabetes. También puede ser un número continuo)\n",
    "    - El conjunto de datos debe tener un propósito, como determinar una clasificación o un número.\n",
    "    - Tu conjunto de datos debe tener más de cinco variables de entrada\n",
    "    - Tienes que ser capaz de explicar cada variable\n",
    "    \n"
   ]
  },
  {
   "cell_type": "markdown",
   "id": "00f298da",
   "metadata": {},
   "source": [
    "### Lectura del dataset\n",
    "En una celda de código lee el conjunto de datos y muestra las primeras 15 filas"
   ]
  },
  {
   "cell_type": "code",
   "execution_count": null,
   "id": "2a183ab3",
   "metadata": {
    "vscode": {
     "languageId": "plaintext"
    }
   },
   "outputs": [],
   "source": []
  },
  {
   "cell_type": "markdown",
   "id": "6f4c3f1d",
   "metadata": {},
   "source": [
    "### Descripción del conjunto de datos\n",
    "En una celda Markdown describe cada una de las columnas (o variables) de tu conjunto de datos:\n",
    "- Determina y describe si es numérica o categórica\n",
    "- Determina y describe si es un número continuo, entero o una cadena de texto\n",
    "- Escribe una descripción de la variable"
   ]
  },
  {
   "cell_type": "markdown",
   "id": "edc9effa",
   "metadata": {},
   "source": []
  },
  {
   "cell_type": "markdown",
   "id": "17cb4a35",
   "metadata": {},
   "source": [
    "### Responde en esta celda y a través de código en las siguientes\n",
    "- Cuantos valores tiene nulos o vacíos. R. \n",
    "- Cuantos valores hay de cada variable. R. \n",
    "- Cuál es la desviación estandar de cada variable. R. \n",
    "- Cuál es el valor minimo y máximo de cada variable. R. \n",
    "- Cuál es la media y mediana de cada variable."
   ]
  },
  {
   "cell_type": "code",
   "execution_count": null,
   "id": "bf970339",
   "metadata": {
    "vscode": {
     "languageId": "plaintext"
    }
   },
   "outputs": [],
   "source": []
  },
  {
   "cell_type": "markdown",
   "id": "eb2ac103",
   "metadata": {},
   "source": [
    "### Responde en esta celda y a través de código en las siguientes\n",
    "- Qué tipo de distribución tiene cada variable. R. \n",
    "- Cuales variables presentan outliers. R.\n",
    "- Para esta actividad tienes que realizar histogramas y diagramas de cajas y bigotes"
   ]
  },
  {
   "cell_type": "code",
   "execution_count": null,
   "id": "206e922b",
   "metadata": {
    "vscode": {
     "languageId": "plaintext"
    }
   },
   "outputs": [],
   "source": []
  },
  {
   "cell_type": "markdown",
   "id": "88b3d6c6",
   "metadata": {},
   "source": [
    "### Responde en esta celda y a través de código en las siguientes\n",
    "- Realiza un mapa de calor de la correlación de las variables. R.\n",
    "- Responde cuales son las variables con alta correlación positiva y qué significa cada correlación que encontraste. R.\n",
    "- Responde cuales son las variables con alta correlación negativa y qué significa cada correlación que encontraste. R.\n",
    "- Cuales son las 3 variables más importantes según el mapa de correlación\n",
    "- Por qué crees que son las más importantes"
   ]
  },
  {
   "cell_type": "code",
   "execution_count": null,
   "id": "f074bf8a",
   "metadata": {
    "vscode": {
     "languageId": "plaintext"
    }
   },
   "outputs": [],
   "source": []
  },
  {
   "cell_type": "markdown",
   "id": "133beee4",
   "metadata": {},
   "source": [
    "### Responde en esta celda y a través de código en las siguientes\n",
    "- Realiza un gráfico de lineas agrupando una de las variables que consideresta más importantes con respecto a la variable de salida (la variable de salida es la que intenta predecir o clasificar el dataset)\n",
    "- Responde qué tipo de tendencias visualizas y cuál es tu interpretación de las mismas."
   ]
  },
  {
   "cell_type": "code",
   "execution_count": null,
   "id": "21195e0b",
   "metadata": {
    "vscode": {
     "languageId": "plaintext"
    }
   },
   "outputs": [],
   "source": []
  },
  {
   "cell_type": "markdown",
   "id": "21907741",
   "metadata": {},
   "source": [
    "### Responde en esta celda y a través de código en las siguientes\n",
    "- Realiza un gráfico de dispersión entre la segunda variable que consideraste más importante y la variable de salida (la variable de salida es la que intenta predecir o clasificar el dataset)\n",
    "- Responde qué tipo de tendencias visualizas y cuál es tu interpretación de las mismas."
   ]
  },
  {
   "cell_type": "code",
   "execution_count": null,
   "id": "e83f3661",
   "metadata": {
    "vscode": {
     "languageId": "plaintext"
    }
   },
   "outputs": [],
   "source": []
  },
  {
   "cell_type": "markdown",
   "id": "157a0de7",
   "metadata": {},
   "source": [
    "### Responde en esta celda y a través de código en las siguientes\n",
    "- Realiza un gráfico de barras entre la tercera variable que consideraste más importante y la variable de salida (la variable de salida es la que intenta predecir o clasificar el dataset)\n",
    "- Responde qué tipo de tendencias visualizas y cuál es tu interpretación de las mismas."
   ]
  },
  {
   "cell_type": "code",
   "execution_count": null,
   "id": "fbb14a1d",
   "metadata": {
    "vscode": {
     "languageId": "plaintext"
    }
   },
   "outputs": [],
   "source": []
  },
  {
   "cell_type": "markdown",
   "id": "e325d868",
   "metadata": {},
   "source": [
    "### Responde en esta celda y a través de código en las siguientes\n",
    "- Usa tu creatividad para hacer al menos 3 gráficos diferentes a los que ya has realizado\n",
    "- Interpreta cada gráfico"
   ]
  },
  {
   "cell_type": "code",
   "execution_count": null,
   "id": "c4fa519b",
   "metadata": {
    "vscode": {
     "languageId": "plaintext"
    }
   },
   "outputs": [],
   "source": []
  },
  {
   "cell_type": "markdown",
   "id": "40e65354",
   "metadata": {},
   "source": [
    "### Responde en esta celda y a través de código en las siguientes\n",
    "- Ahora que ya conoces a profundida el dataset realiza IMPUTACIÓN de datos tal como en la tarea 1.5"
   ]
  },
  {
   "cell_type": "code",
   "execution_count": null,
   "id": "441976f3",
   "metadata": {
    "vscode": {
     "languageId": "plaintext"
    }
   },
   "outputs": [],
   "source": []
  },
  {
   "cell_type": "markdown",
   "id": "bdb69696",
   "metadata": {},
   "source": [
    "### Responde en esta celda y a través de código en las siguientes\n",
    "- Elimina outliers si consideras que afectan al estudio"
   ]
  },
  {
   "cell_type": "code",
   "execution_count": null,
   "id": "98075f10",
   "metadata": {
    "vscode": {
     "languageId": "plaintext"
    }
   },
   "outputs": [],
   "source": []
  },
  {
   "cell_type": "markdown",
   "id": "b34bb746",
   "metadata": {},
   "source": [
    "### Responde en esta celda y a través de código en las siguientes\n",
    "- Demuestra de forma gráfica o con una tabla que ya no tiene valores nulos o vacíos \n",
    "- Demuestra de forma gráfica o con una tabla que ya no hay outliers significativas."
   ]
  },
  {
   "cell_type": "code",
   "execution_count": null,
   "id": "68fcaf50",
   "metadata": {
    "vscode": {
     "languageId": "plaintext"
    }
   },
   "outputs": [],
   "source": []
  }
 ],
 "metadata": {
  "language_info": {
   "name": "python"
  }
 },
 "nbformat": 4,
 "nbformat_minor": 5
}
